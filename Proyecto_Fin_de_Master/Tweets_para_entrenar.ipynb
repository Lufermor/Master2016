{
 "cells": [
  {
   "cell_type": "markdown",
   "metadata": {},
   "source": [
    "# Limpieza y preparación de conjuntos de Tweets para su posterior análisis\n",
    "### Este archivo lee datos en bruto descargados de la web de Twitter, con pocas modificaciones o sin estas. Muchos de estos Tweets están dañados o incompletos y por lo tanto se descartan."
   ]
  },
  {
   "cell_type": "code",
   "execution_count": 1,
   "metadata": {
    "collapsed": false
   },
   "outputs": [
    {
     "name": "stdout",
     "output_type": "stream",
     "text": [
      "C:\\Users\\User\\Documents\\Master Data Science\\SocialBigData\\Twitter\n"
     ]
    }
   ],
   "source": [
    "import pandas as pd\n",
    "import json\n",
    "pd.set_option('display.max_columns', None) #Quitamos limitación de columnas máximas a mostrar\n",
    "!cd"
   ]
  },
  {
   "cell_type": "code",
   "execution_count": 2,
   "metadata": {
    "collapsed": false
   },
   "outputs": [
    {
     "name": "stdout",
     "output_type": "stream",
     "text": [
      "Cargados=1394502\n",
      "Perdidos al leer linea= 193070\n",
      "Perdidos al cargar json raw = 736206\n",
      "Perdidos al cargar json string = 0\n",
      "L1 = 193070\n",
      "L2 = 658296\n",
      "L3 = 736206\n",
      "Wall time: 1min 44s\n"
     ]
    }
   ],
   "source": [
    "%%time\n",
    "\n",
    "\"\"\"\n",
    "Cargo los tweets en una lista, algunas líneas no son tweets completos, \n",
    "sino sólo trozos y no es posible cargarlos e incorporarlos al DataFrame, por eso try-except.\n",
    "Al final con esto lastimosamente dejan de cargarse muchos tweets\n",
    "Estos tweets que se acaban descargando se almacenan temporalmente en otras variables para observarlos ligeramente\n",
    "\"\"\"\n",
    "\n",
    "with open(\"./Data/CAM20170501-002.json\") as data:\n",
    "    n=0\n",
    "    m=0\n",
    "    jr=0\n",
    "    js=0\n",
    "    l1=[]\n",
    "    l2=[]\n",
    "    l3=[]\n",
    "    for line in range(1587572):\n",
    "        try:\n",
    "            r1=(data.readline())\n",
    "        except:\n",
    "            n+=1\n",
    "            try:\n",
    "                l1.append(r1)\n",
    "            except:\n",
    "                pass\n",
    "        else: \n",
    "            try:\n",
    "                r2=json.loads(r1)\n",
    "            except:\n",
    "                jr+=1\n",
    "                try:\n",
    "                    r2=json.loads(json.dumps(r1))\n",
    "                except:\n",
    "                    js+=1\n",
    "                else:\n",
    "                    m+=1\n",
    "                    l3.append(r2)\n",
    "            else:\n",
    "                m+=1\n",
    "                l2.append(r2)\n",
    "    print(\"Cargados=%d\\nPerdidos al leer linea= %d\\nPerdidos al cargar json raw = %d\\nPerdidos al cargar json string = %d\"\\\n",
    "          %(m,n,jr,js))\n",
    "    print(\"L1 = %d\\nL2 = %d\\nL3 = %d\" %(len(l1),len(l2), len(l3)))"
   ]
  },
  {
   "cell_type": "code",
   "execution_count": 3,
   "metadata": {
    "collapsed": false
   },
   "outputs": [
    {
     "name": "stdout",
     "output_type": "stream",
     "text": [
      "Wall time: 2min\n"
     ]
    }
   ],
   "source": [
    "%%time\n",
    "\"\"\"Aquí cargamos los tweets en un DataFrame\"\"\"\n",
    "\n",
    "ll1 = []\n",
    "for element in l1:\n",
    "    try:\n",
    "        ll1.append(json.loads(element))\n",
    "    except:\n",
    "        pass\n",
    "tweets1 = pd.DataFrame(ll1)\n",
    "#tweets1 = pd.DataFrame([json.loads(element) for element in l1]) #Creo un dataFrame\n"
   ]
  },
  {
   "cell_type": "code",
   "execution_count": 4,
   "metadata": {
    "collapsed": false
   },
   "outputs": [
    {
     "name": "stdout",
     "output_type": "stream",
     "text": [
      "(192780, 54)\n"
     ]
    },
    {
     "data": {
      "text/html": [
       "<div>\n",
       "<table border=\"1\" class=\"dataframe\">\n",
       "  <thead>\n",
       "    <tr style=\"text-align: right;\">\n",
       "      <th></th>\n",
       "      <th>Xcoord</th>\n",
       "      <th>Ycoord</th>\n",
       "      <th>_id</th>\n",
       "      <th>coordinates</th>\n",
       "      <th>created_at</th>\n",
       "      <th>created_at_localtime</th>\n",
       "      <th>display_text_range</th>\n",
       "      <th>entities</th>\n",
       "      <th>entities-hashtags</th>\n",
       "      <th>entities-media</th>\n",
       "      <th>entities-urls</th>\n",
       "      <th>entities-user_mentions</th>\n",
       "      <th>entitites</th>\n",
       "      <th>extended_entities</th>\n",
       "      <th>extended_tweet</th>\n",
       "      <th>favorite_count</th>\n",
       "      <th>favorited</th>\n",
       "      <th>filter_level</th>\n",
       "      <th>geo</th>\n",
       "      <th>id</th>\n",
       "      <th>in_reply_to_screen_name</th>\n",
       "      <th>in_reply_to_screen_nameFix</th>\n",
       "      <th>in_reply_to_status_id</th>\n",
       "      <th>in_reply_to_status_id_str</th>\n",
       "      <th>in_reply_to_user_id</th>\n",
       "      <th>in_reply_to_user_id_str</th>\n",
       "      <th>is_quote_status</th>\n",
       "      <th>lang</th>\n",
       "      <th>place</th>\n",
       "      <th>place-country_code</th>\n",
       "      <th>place-name</th>\n",
       "      <th>possibly_sensitive</th>\n",
       "      <th>quoted_status</th>\n",
       "      <th>quoted_status_id</th>\n",
       "      <th>quoted_status_id_str</th>\n",
       "      <th>retweet_count</th>\n",
       "      <th>retweeted</th>\n",
       "      <th>source</th>\n",
       "      <th>sourceFix</th>\n",
       "      <th>text</th>\n",
       "      <th>textFix</th>\n",
       "      <th>timestamp_ms</th>\n",
       "      <th>timezone_info</th>\n",
       "      <th>truncated</th>\n",
       "      <th>user</th>\n",
       "      <th>user-created_at</th>\n",
       "      <th>user-followers_count</th>\n",
       "      <th>user-friends_count</th>\n",
       "      <th>user-id_str</th>\n",
       "      <th>user-lang</th>\n",
       "      <th>user-listed_count</th>\n",
       "      <th>user-location</th>\n",
       "      <th>user-screen_name</th>\n",
       "      <th>user-statuses_count</th>\n",
       "    </tr>\n",
       "  </thead>\n",
       "  <tbody>\n",
       "    <tr>\n",
       "      <th>0</th>\n",
       "      <td>-3.7058</td>\n",
       "      <td>40.4203</td>\n",
       "      <td>722257977667747843</td>\n",
       "      <td>{'type': 'Point', 'coordinates': [-3.7058, 40....</td>\n",
       "      <td>{'$date': '2016-04-19T02:58:15.000Z'}</td>\n",
       "      <td>{'$date': '2016-04-19T04:58:15.000Z'}</td>\n",
       "      <td>NaN</td>\n",
       "      <td>{'hashtags': [{'indices': [121, 128], 'text': ...</td>\n",
       "      <td>[{'indices': [121, 128], 'text': 'trndnl'}]</td>\n",
       "      <td>NaN</td>\n",
       "      <td>[{'url': 'https://t.co/K5DFqqcseW', 'indices':...</td>\n",
       "      <td>NaN</td>\n",
       "      <td>NaN</td>\n",
       "      <td>NaN</td>\n",
       "      <td>NaN</td>\n",
       "      <td>0.0</td>\n",
       "      <td>NaN</td>\n",
       "      <td>NaN</td>\n",
       "      <td>NaN</td>\n",
       "      <td>NaN</td>\n",
       "      <td>NaN</td>\n",
       "      <td>NaN</td>\n",
       "      <td>NaN</td>\n",
       "      <td>NaN</td>\n",
       "      <td>NaN</td>\n",
       "      <td>NaN</td>\n",
       "      <td>NaN</td>\n",
       "      <td>es</td>\n",
       "      <td>{'name': 'Madrid', 'country_code': 'ES'}</td>\n",
       "      <td>ES</td>\n",
       "      <td>Madrid</td>\n",
       "      <td>NaN</td>\n",
       "      <td>NaN</td>\n",
       "      <td>NaN</td>\n",
       "      <td>NaN</td>\n",
       "      <td>0.0</td>\n",
       "      <td>NaN</td>\n",
       "      <td>NaN</td>\n",
       "      <td>NaN</td>\n",
       "      <td>'Oklahoma' empieza a ser Tendencia, con 16652 ...</td>\n",
       "      <td>NaN</td>\n",
       "      <td>NaN</td>\n",
       "      <td>{'timezone': 'Europe/Madrid', 'obtained_from':...</td>\n",
       "      <td>NaN</td>\n",
       "      <td>{'lang': 'es', 'statuses_count': 432224.0, 'sc...</td>\n",
       "      <td>{'$date': '2013-02-14T18:39:28.000Z'}</td>\n",
       "      <td>36306.0</td>\n",
       "      <td>44.0</td>\n",
       "      <td>1179981192</td>\n",
       "      <td>es</td>\n",
       "      <td>450.0</td>\n",
       "      <td>EspaÃ±a</td>\n",
       "      <td>trendinaliaES</td>\n",
       "      <td>432224.0</td>\n",
       "    </tr>\n",
       "    <tr>\n",
       "      <th>1</th>\n",
       "      <td>-3.7058</td>\n",
       "      <td>40.4203</td>\n",
       "      <td>722269265693310977</td>\n",
       "      <td>{'type': 'Point', 'coordinates': [-3.7058, 40....</td>\n",
       "      <td>{'$date': '2016-04-19T03:43:06.000Z'}</td>\n",
       "      <td>{'$date': '2016-04-19T05:43:06.000Z'}</td>\n",
       "      <td>NaN</td>\n",
       "      <td>{'hashtags': [{'indices': [0, 12], 'text': 'Lu...</td>\n",
       "      <td>[{'indices': [0, 12], 'text': 'LunesDeOjos'}, ...</td>\n",
       "      <td>NaN</td>\n",
       "      <td>[{'url': 'https://t.co/M8vQMwWlAW', 'indices':...</td>\n",
       "      <td>NaN</td>\n",
       "      <td>NaN</td>\n",
       "      <td>NaN</td>\n",
       "      <td>NaN</td>\n",
       "      <td>0.0</td>\n",
       "      <td>NaN</td>\n",
       "      <td>NaN</td>\n",
       "      <td>NaN</td>\n",
       "      <td>NaN</td>\n",
       "      <td>NaN</td>\n",
       "      <td>NaN</td>\n",
       "      <td>NaN</td>\n",
       "      <td>NaN</td>\n",
       "      <td>NaN</td>\n",
       "      <td>NaN</td>\n",
       "      <td>NaN</td>\n",
       "      <td>es</td>\n",
       "      <td>{'name': 'Madrid', 'country_code': 'ES'}</td>\n",
       "      <td>ES</td>\n",
       "      <td>Madrid</td>\n",
       "      <td>NaN</td>\n",
       "      <td>NaN</td>\n",
       "      <td>NaN</td>\n",
       "      <td>NaN</td>\n",
       "      <td>0.0</td>\n",
       "      <td>NaN</td>\n",
       "      <td>NaN</td>\n",
       "      <td>NaN</td>\n",
       "      <td>#LunesDeOjos estuvo el lunes 18 como Tendencia...</td>\n",
       "      <td>NaN</td>\n",
       "      <td>NaN</td>\n",
       "      <td>{'timezone': 'Europe/Madrid', 'obtained_from':...</td>\n",
       "      <td>NaN</td>\n",
       "      <td>{'lang': 'es', 'statuses_count': 432234.0, 'sc...</td>\n",
       "      <td>{'$date': '2013-02-14T18:39:28.000Z'}</td>\n",
       "      <td>36306.0</td>\n",
       "      <td>44.0</td>\n",
       "      <td>1179981192</td>\n",
       "      <td>es</td>\n",
       "      <td>450.0</td>\n",
       "      <td>EspaÃ±a</td>\n",
       "      <td>trendinaliaES</td>\n",
       "      <td>432234.0</td>\n",
       "    </tr>\n",
       "  </tbody>\n",
       "</table>\n",
       "</div>"
      ],
      "text/plain": [
       "   Xcoord   Ycoord                 _id  \\\n",
       "0 -3.7058  40.4203  722257977667747843   \n",
       "1 -3.7058  40.4203  722269265693310977   \n",
       "\n",
       "                                         coordinates  \\\n",
       "0  {'type': 'Point', 'coordinates': [-3.7058, 40....   \n",
       "1  {'type': 'Point', 'coordinates': [-3.7058, 40....   \n",
       "\n",
       "                              created_at  \\\n",
       "0  {'$date': '2016-04-19T02:58:15.000Z'}   \n",
       "1  {'$date': '2016-04-19T03:43:06.000Z'}   \n",
       "\n",
       "                    created_at_localtime display_text_range  \\\n",
       "0  {'$date': '2016-04-19T04:58:15.000Z'}                NaN   \n",
       "1  {'$date': '2016-04-19T05:43:06.000Z'}                NaN   \n",
       "\n",
       "                                            entities  \\\n",
       "0  {'hashtags': [{'indices': [121, 128], 'text': ...   \n",
       "1  {'hashtags': [{'indices': [0, 12], 'text': 'Lu...   \n",
       "\n",
       "                                   entities-hashtags entities-media  \\\n",
       "0        [{'indices': [121, 128], 'text': 'trndnl'}]            NaN   \n",
       "1  [{'indices': [0, 12], 'text': 'LunesDeOjos'}, ...            NaN   \n",
       "\n",
       "                                       entities-urls entities-user_mentions  \\\n",
       "0  [{'url': 'https://t.co/K5DFqqcseW', 'indices':...                    NaN   \n",
       "1  [{'url': 'https://t.co/M8vQMwWlAW', 'indices':...                    NaN   \n",
       "\n",
       "  entitites extended_entities extended_tweet  favorite_count favorited  \\\n",
       "0       NaN               NaN            NaN             0.0       NaN   \n",
       "1       NaN               NaN            NaN             0.0       NaN   \n",
       "\n",
       "  filter_level  geo   id in_reply_to_screen_name in_reply_to_screen_nameFix  \\\n",
       "0          NaN  NaN  NaN                     NaN                        NaN   \n",
       "1          NaN  NaN  NaN                     NaN                        NaN   \n",
       "\n",
       "  in_reply_to_status_id in_reply_to_status_id_str in_reply_to_user_id  \\\n",
       "0                   NaN                       NaN                 NaN   \n",
       "1                   NaN                       NaN                 NaN   \n",
       "\n",
       "  in_reply_to_user_id_str is_quote_status lang  \\\n",
       "0                     NaN             NaN   es   \n",
       "1                     NaN             NaN   es   \n",
       "\n",
       "                                      place place-country_code place-name  \\\n",
       "0  {'name': 'Madrid', 'country_code': 'ES'}                 ES     Madrid   \n",
       "1  {'name': 'Madrid', 'country_code': 'ES'}                 ES     Madrid   \n",
       "\n",
       "  possibly_sensitive quoted_status quoted_status_id quoted_status_id_str  \\\n",
       "0                NaN           NaN              NaN                  NaN   \n",
       "1                NaN           NaN              NaN                  NaN   \n",
       "\n",
       "   retweet_count retweeted source sourceFix  \\\n",
       "0            0.0       NaN    NaN       NaN   \n",
       "1            0.0       NaN    NaN       NaN   \n",
       "\n",
       "                                                text textFix timestamp_ms  \\\n",
       "0  'Oklahoma' empieza a ser Tendencia, con 16652 ...     NaN          NaN   \n",
       "1  #LunesDeOjos estuvo el lunes 18 como Tendencia...     NaN          NaN   \n",
       "\n",
       "                                       timezone_info truncated  \\\n",
       "0  {'timezone': 'Europe/Madrid', 'obtained_from':...       NaN   \n",
       "1  {'timezone': 'Europe/Madrid', 'obtained_from':...       NaN   \n",
       "\n",
       "                                                user  \\\n",
       "0  {'lang': 'es', 'statuses_count': 432224.0, 'sc...   \n",
       "1  {'lang': 'es', 'statuses_count': 432234.0, 'sc...   \n",
       "\n",
       "                         user-created_at  user-followers_count  \\\n",
       "0  {'$date': '2013-02-14T18:39:28.000Z'}               36306.0   \n",
       "1  {'$date': '2013-02-14T18:39:28.000Z'}               36306.0   \n",
       "\n",
       "   user-friends_count user-id_str user-lang  user-listed_count user-location  \\\n",
       "0                44.0  1179981192        es              450.0       EspaÃ±a   \n",
       "1                44.0  1179981192        es              450.0       EspaÃ±a   \n",
       "\n",
       "  user-screen_name  user-statuses_count  \n",
       "0    trendinaliaES             432224.0  \n",
       "1    trendinaliaES             432234.0  "
      ]
     },
     "execution_count": 4,
     "metadata": {},
     "output_type": "execute_result"
    }
   ],
   "source": [
    "print(tweets1.shape)\n",
    "tweets1.head(2)"
   ]
  },
  {
   "cell_type": "code",
   "execution_count": 5,
   "metadata": {
    "collapsed": false
   },
   "outputs": [
    {
     "name": "stdout",
     "output_type": "stream",
     "text": [
      "(192780, 54)\n",
      "(658296, 54)\n",
      "(736206, 1)\n"
     ]
    }
   ],
   "source": [
    "\"\"\"\n",
    "Cargo los tweets que han presentado problema en dataframes independientes, para observar la posible clausa\n",
    "\"\"\"\n",
    "\n",
    "tweets3 = pd.DataFrame(l3)\n",
    "tweets2 = pd.DataFrame(l2)\n",
    "\n",
    "print(tweets1.shape)\n",
    "print(tweets2.shape)\n",
    "print(tweets3.shape)"
   ]
  },
  {
   "cell_type": "code",
   "execution_count": 6,
   "metadata": {
    "collapsed": false
   },
   "outputs": [
    {
     "data": {
      "text/html": [
       "<div>\n",
       "<table border=\"1\" class=\"dataframe\">\n",
       "  <thead>\n",
       "    <tr style=\"text-align: right;\">\n",
       "      <th></th>\n",
       "      <th>0</th>\n",
       "    </tr>\n",
       "  </thead>\n",
       "  <tbody>\n",
       "    <tr>\n",
       "      <th>0</th>\n",
       "      <td>eated_at_localtime\":{\"$date\":\"2016-04-19T05:13...</td>\n",
       "    </tr>\n",
       "    <tr>\n",
       "      <th>1</th>\n",
       "      <td>com/p/BEXhncytVjf/\",\"display_url\":\"instagram.c...</td>\n",
       "    </tr>\n",
       "  </tbody>\n",
       "</table>\n",
       "</div>"
      ],
      "text/plain": [
       "                                                   0\n",
       "0  eated_at_localtime\":{\"$date\":\"2016-04-19T05:13...\n",
       "1  com/p/BEXhncytVjf/\",\"display_url\":\"instagram.c..."
      ]
     },
     "execution_count": 6,
     "metadata": {},
     "output_type": "execute_result"
    }
   ],
   "source": [
    "tweets3.head(2) # Comprobamos el estado de estas líneas"
   ]
  },
  {
   "cell_type": "markdown",
   "metadata": {},
   "source": [
    "##### Como se observa, estos Tweets están incompletos y por esta razón no se han podido incorporar al Dataframe principal, por lo tanto se descartan"
   ]
  },
  {
   "cell_type": "code",
   "execution_count": 7,
   "metadata": {
    "collapsed": true
   },
   "outputs": [],
   "source": [
    "del tweets3, l1, l2, l3, ll1, data"
   ]
  },
  {
   "cell_type": "markdown",
   "metadata": {},
   "source": [
    "##### Los Tweets que han podido cargarse corréctamente se combinan en un único DataFrame"
   ]
  },
  {
   "cell_type": "code",
   "execution_count": 8,
   "metadata": {
    "collapsed": false
   },
   "outputs": [
    {
     "name": "stdout",
     "output_type": "stream",
     "text": [
      "(851076, 54)\n",
      "(851076, 53)\n"
     ]
    },
    {
     "data": {
      "text/plain": [
       "Xcoord                        570988\n",
       "Ycoord                        570988\n",
       "coordinates                   851076\n",
       "created_at                    851076\n",
       "created_at_localtime          851076\n",
       "display_text_range             16863\n",
       "entities                      664615\n",
       "entities-hashtags             271023\n",
       "entities-media                 43899\n",
       "entities-urls                 458740\n",
       "entities-user_mentions         91923\n",
       "entitites                     154059\n",
       "extended_entities              13572\n",
       "extended_tweet                   898\n",
       "favorite_count                697017\n",
       "favorited                     126029\n",
       "filter_level                  126029\n",
       "geo                           126029\n",
       "id                            126029\n",
       "in_reply_to_screen_name        72721\n",
       "in_reply_to_screen_nameFix      9275\n",
       "in_reply_to_status_id           9758\n",
       "in_reply_to_status_id_str      65268\n",
       "in_reply_to_user_id            11084\n",
       "in_reply_to_user_id_str        72721\n",
       "is_quote_status               126029\n",
       "lang                          697015\n",
       "place                         848497\n",
       "place-country_code            568990\n",
       "place-name                    568990\n",
       "possibly_sensitive            110836\n",
       "quoted_status                   1038\n",
       "quoted_status_id                1038\n",
       "quoted_status_id_str            7271\n",
       "retweet_count                 697017\n",
       "retweeted                     126029\n",
       "source                        303566\n",
       "sourceFix                     120323\n",
       "text                          851076\n",
       "textFix                       126029\n",
       "timestamp_ms                  126029\n",
       "timezone_info                 851076\n",
       "truncated                     126029\n",
       "user                          851076\n",
       "user-created_at               570988\n",
       "user-followers_count          570988\n",
       "user-friends_count            570988\n",
       "user-id_str                   570988\n",
       "user-lang                     570988\n",
       "user-listed_count             570975\n",
       "user-location                 481213\n",
       "user-screen_name              570988\n",
       "user-statuses_count           570988\n",
       "dtype: int64"
      ]
     },
     "execution_count": 8,
     "metadata": {},
     "output_type": "execute_result"
    }
   ],
   "source": [
    "tw = tweets2.append(tweets1) #formamos un df único\n",
    "print(tw.shape)\n",
    "tw = tw.set_index(\"_id\")\n",
    "print(tw.shape)\n",
    "tw.count() #Miramos si hay NAs"
   ]
  },
  {
   "cell_type": "code",
   "execution_count": 9,
   "metadata": {
    "collapsed": true
   },
   "outputs": [],
   "source": [
    "del tweets2, tweets1"
   ]
  },
  {
   "cell_type": "code",
   "execution_count": 10,
   "metadata": {
    "collapsed": false
   },
   "outputs": [
    {
     "name": "stdout",
     "output_type": "stream",
     "text": [
      "Wall time: 2min 46s\n",
      "Parser   : 322 ms\n"
     ]
    },
    {
     "name": "stderr",
     "output_type": "stream",
     "text": [
      "C:\\Users\\User\\Anaconda3\\lib\\site-packages\\ipykernel\\__main__.py:4: SettingWithCopyWarning: \n",
      "A value is trying to be set on a copy of a slice from a DataFrame.\n",
      "Try using .loc[row_indexer,col_indexer] = value instead\n",
      "\n",
      "See the caveats in the documentation: http://pandas.pydata.org/pandas-docs/stable/indexing.html#indexing-view-versus-copy\n"
     ]
    }
   ],
   "source": [
    "%%time\n",
    "texts = tw[[\"created_at\",\"text\"]] # nos quedamos sólo con estas columnas\n",
    "\n",
    "#Cambiamos el formato de la fecha a datetime:\n",
    "texts[\"created_at\"]=texts[\"created_at\"].map(lambda x: pd.to_datetime(x[\"$date\"]))"
   ]
  },
  {
   "cell_type": "code",
   "execution_count": 11,
   "metadata": {
    "collapsed": true
   },
   "outputs": [],
   "source": [
    "del tw"
   ]
  },
  {
   "cell_type": "code",
   "execution_count": 12,
   "metadata": {
    "collapsed": false
   },
   "outputs": [
    {
     "data": {
      "text/html": [
       "<div>\n",
       "<table border=\"1\" class=\"dataframe\">\n",
       "  <thead>\n",
       "    <tr style=\"text-align: right;\">\n",
       "      <th></th>\n",
       "      <th>created_at</th>\n",
       "      <th>text</th>\n",
       "    </tr>\n",
       "    <tr>\n",
       "      <th>_id</th>\n",
       "      <th></th>\n",
       "      <th></th>\n",
       "    </tr>\n",
       "  </thead>\n",
       "  <tbody>\n",
       "    <tr>\n",
       "      <th>722247433049083904</th>\n",
       "      <td>2016-04-19 02:16:21</td>\n",
       "      <td>Flex #thankyourihanna @ Puerta del Sol https:/...</td>\n",
       "    </tr>\n",
       "  </tbody>\n",
       "</table>\n",
       "</div>"
      ],
      "text/plain": [
       "                            created_at  \\\n",
       "_id                                      \n",
       "722247433049083904 2016-04-19 02:16:21   \n",
       "\n",
       "                                                                 text  \n",
       "_id                                                                    \n",
       "722247433049083904  Flex #thankyourihanna @ Puerta del Sol https:/...  "
      ]
     },
     "execution_count": 12,
     "metadata": {},
     "output_type": "execute_result"
    }
   ],
   "source": [
    "texts.head(1)"
   ]
  },
  {
   "cell_type": "code",
   "execution_count": 13,
   "metadata": {
    "collapsed": false
   },
   "outputs": [
    {
     "data": {
      "text/plain": [
       "created_at    851076\n",
       "text          851076\n",
       "dtype: int64"
      ]
     },
     "execution_count": 13,
     "metadata": {},
     "output_type": "execute_result"
    }
   ],
   "source": [
    "texts.count()"
   ]
  },
  {
   "cell_type": "code",
   "execution_count": 14,
   "metadata": {
    "collapsed": false
   },
   "outputs": [
    {
     "data": {
      "text/plain": [
       "created_at    1\n",
       "text          1\n",
       "dtype: int64"
      ]
     },
     "execution_count": 14,
     "metadata": {},
     "output_type": "execute_result"
    }
   ],
   "source": [
    "# Hacemos prueba de buscar dentro del texto\n",
    "texts[texts[\"text\"].str.contains(\"thankyourihanna\", na=False).values].count() "
   ]
  },
  {
   "cell_type": "markdown",
   "metadata": {},
   "source": [
    "### Reemplazamos carácteres extraños por letras simples\n",
    "(á = Ã¡ , á = Ã\\xa0 , É = Ã‰ , é = Ã© , é = Ã¨ , í = Ã\\xad , í = Ã¬ , Ó = Ã“ , Ó = Ã’ , ó = Ã³ , Ú = Ãš , ú = Ãº , ü = Ã¼, Ñ = Ã‘ , ñ = Ã± , Ç = Ã‡ , ç = Ã§) "
   ]
  },
  {
   "cell_type": "code",
   "execution_count": 15,
   "metadata": {
    "collapsed": false
   },
   "outputs": [
    {
     "name": "stdout",
     "output_type": "stream",
     "text": [
      "Wall time: 20.9 s\n"
     ]
    }
   ],
   "source": [
    "%%time\n",
    "texts[\"text\"] = texts[\"text\"].str.replace(r\"\\Ã\\¡\",\"a\")\n",
    "texts[\"text\"] = texts[\"text\"].str.replace(r\"\\Ã\\xa0\",\"a\")\n",
    "texts[\"text\"] = texts[\"text\"].str.replace(r\"\\Ã\\©\",\"e\")\n",
    "texts[\"text\"] = texts[\"text\"].str.replace(r\"\\Ã\\¨\",\"e\")\n",
    "texts[\"text\"] = texts[\"text\"].str.replace(r\"\\Ã\\xad\",\"i\")\n",
    "texts[\"text\"] = texts[\"text\"].str.replace(r\"\\Ã\\¬\",\"i\")\n",
    "texts[\"text\"] = texts[\"text\"].str.replace(r\"\\Ã\\³\",\"o\")\n",
    "texts[\"text\"] = texts[\"text\"].str.replace(r\"\\Ã\\²\",\"o\")\n",
    "texts[\"text\"] = texts[\"text\"].str.replace(r\"\\Ã\\º\",\"u\")\n",
    "texts[\"text\"] = texts[\"text\"].str.replace(r\"\\Ã\\¼\",\"u\")\n",
    "texts[\"text\"] = texts[\"text\"].str.replace(r\"\\Ã\\±\",\"ny\")\n",
    "texts[\"text\"] = texts[\"text\"].str.replace(r\"\\Ã\\§\",\"c\")\n",
    "\n",
    "texts[\"text\"] = texts[\"text\"].str.replace(r\"\\Ã\\‰\",\"E\")\n",
    "texts[\"text\"] = texts[\"text\"].str.replace(r\"\\Ã\\“\",\"O\")\n",
    "texts[\"text\"] = texts[\"text\"].str.replace(r\"\\Ã\\’\",\"O\")\n",
    "texts[\"text\"] = texts[\"text\"].str.replace(r\"\\Ã\\š\",\"U\")\n",
    "texts[\"text\"] = texts[\"text\"].str.replace(r\"\\Ã\\‘\",\"NY\")\n",
    "texts[\"text\"] = texts[\"text\"].str.replace(r\"\\Ã\\‡\",\"C\")\n",
    "\n",
    "texts[\"text\"] = texts[\"text\"].str.lower() # Convertimos a minúsculas"
   ]
  },
  {
   "cell_type": "code",
   "execution_count": 16,
   "metadata": {
    "collapsed": false
   },
   "outputs": [
    {
     "data": {
      "text/plain": [
       "148"
      ]
     },
     "execution_count": 16,
     "metadata": {},
     "output_type": "execute_result"
    }
   ],
   "source": [
    "#Vamos a cargar nuestras palabras claves en una lista\n",
    "key_words = [] \n",
    "with open(\"./Lista palabras.txt\") as words:\n",
    "    for word in words:\n",
    "        key_words.append(word[:-1])\n",
    "len(key_words)"
   ]
  },
  {
   "cell_type": "code",
   "execution_count": 17,
   "metadata": {
    "collapsed": false
   },
   "outputs": [
    {
     "name": "stdout",
     "output_type": "stream",
     "text": [
      "(239998, 2)\n",
      "Wall time: 2min 11s\n"
     ]
    }
   ],
   "source": [
    "%%time\n",
    "#Ahora vamos a filtrar por nuestras keywords\n",
    "train_tweets = pd.DataFrame() \n",
    "for word in key_words:\n",
    "    train_tweets = train_tweets.append(texts[texts[\"text\"].str.contains(word, na = False).values])\n",
    "    train_tweets = train_tweets.drop_duplicates()\n",
    "print(train_tweets.shape)"
   ]
  },
  {
   "cell_type": "code",
   "execution_count": 18,
   "metadata": {
    "collapsed": false
   },
   "outputs": [
    {
     "name": "stderr",
     "output_type": "stream",
     "text": [
      "C:\\Users\\User\\Anaconda3\\lib\\site-packages\\pandas\\core\\generic.py:2644: VisibleDeprecationWarning: using a non-integer number instead of an integer will result in an error in the future\n",
      "  locs = rs.choice(axis_length, size=n, replace=replace, p=weights)\n"
     ]
    },
    {
     "data": {
      "text/plain": [
       "(300378, 2)"
      ]
     },
     "execution_count": 18,
     "metadata": {},
     "output_type": "execute_result"
    }
   ],
   "source": [
    "#Añadimos algunos más aleatorios para que el modelo aprenda los incorrectos\n",
    "train_tweets = train_tweets.append(texts.sample(1e5))\n",
    "train_tweets = train_tweets.drop_duplicates()\n",
    "train_tweets.shape"
   ]
  },
  {
   "cell_type": "code",
   "execution_count": 20,
   "metadata": {
    "collapsed": true
   },
   "outputs": [],
   "source": [
    "train_tweets.to_excel(\"./Data/Entrenamiento.xlsx\") \n",
    "#Exportamos a Excel para clasificar manualmente una muestra y tener un conjunto de entrenamiento"
   ]
  },
  {
   "cell_type": "code",
   "execution_count": null,
   "metadata": {
    "collapsed": true
   },
   "outputs": [],
   "source": []
  }
 ],
 "metadata": {
  "kernelspec": {
   "display_name": "Python 3",
   "language": "python",
   "name": "python3"
  },
  "language_info": {
   "codemirror_mode": {
    "name": "ipython",
    "version": 3
   },
   "file_extension": ".py",
   "mimetype": "text/x-python",
   "name": "python",
   "nbconvert_exporter": "python",
   "pygments_lexer": "ipython3",
   "version": "3.6.0"
  }
 },
 "nbformat": 4,
 "nbformat_minor": 2
}
