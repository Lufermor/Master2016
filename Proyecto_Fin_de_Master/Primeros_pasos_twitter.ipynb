{
 "cells": [
  {
   "cell_type": "code",
   "execution_count": 1,
   "metadata": {
    "collapsed": true
   },
   "outputs": [],
   "source": [
    "import pandas as pd\n",
    "import json"
   ]
  },
  {
   "cell_type": "markdown",
   "metadata": {},
   "source": [
    "dataf = pd.read_json('./Data/tweets1.json')\n",
    "\n",
    "json_file1= json.loads(open('./Data/tweets1.json').read())\n",
    "\n",
    "#from pprint import pprint\n",
    "\n",
    "with open('./Data/tweets1.json') as data_file:  \n",
    "\n",
    "    data = json.load(data_file)\n",
    "\n",
    "#pprint(data[\"Blog\"])\n",
    "#pprint(data[\"Posts\"][\"PostX\"])\n",
    "#pprint(data[\"Tags\"][1])"
   ]
  },
  {
   "cell_type": "code",
   "execution_count": 2,
   "metadata": {
    "collapsed": true
   },
   "outputs": [],
   "source": [
    "prueba1 = {\"Fruteria\": [  {\"Fruta\":   [    {\"Nombre\":\"Manzana\",\"Cantidad\":10},    {\"Nombre\":\"Pera\",\"Cantidad\":20},    {\"Nombre\":\"Naranja\",\"Cantidad\":30}   ]  },  {\"Verdura\":   [    {\"Nombre\":\"Lechuga\",\"Cantidad\":80},    {\"Nombre\":\"Tomate\",\"Cantidad\":15},    {\"Nombre\":\"Pepino\",\"Cantidad\":50}   ]  } ]}"
   ]
  },
  {
   "cell_type": "code",
   "execution_count": 3,
   "metadata": {
    "collapsed": false
   },
   "outputs": [
    {
     "name": "stdout",
     "output_type": "stream",
     "text": [
      "{'Fruteria': [{'Fruta': [{'Nombre': 'Manzana', 'Cantidad': 10}, {'Nombre': 'Pera', 'Cantidad': 20}, {'Nombre': 'Naranja', 'Cantidad': 30}]}, {'Verdura': [{'Nombre': 'Lechuga', 'Cantidad': 80}, {'Nombre': 'Tomate', 'Cantidad': 15}, {'Nombre': 'Pepino', 'Cantidad': 50}]}]}\n",
      "<type 'dict'>\n",
      "{'Fruteria': [{'Fruta': [{'Nombre': 'Manzana', 'Cantidad': 10}, {'Nombre': 'Pera', 'Cantidad': 20}, {'Nombre': 'Naranja', 'Cantidad': 30}]}, {'Verdura': [{'Nombre': 'Lechuga', 'Cantidad': 80}, {'Nombre': 'Tomate', 'Cantidad': 15}, {'Nombre': 'Pepino', 'Cantidad': 50}]}]}\n",
      "<type 'str'>\n"
     ]
    }
   ],
   "source": [
    "print prueba1\n",
    "print type(prueba1)\n",
    "print repr(prueba1)\n",
    "print type(repr(prueba1))"
   ]
  },
  {
   "cell_type": "code",
   "execution_count": 4,
   "metadata": {
    "collapsed": false
   },
   "outputs": [
    {
     "name": "stdout",
     "output_type": "stream",
     "text": [
      "{\"Fruteria\": [{\"Fruta\": [{\"Nombre\": \"Manzana\", \"Cantidad\": 10}, {\"Nombre\": \"Pera\", \"Cantidad\": 20}, {\"Nombre\": \"Naranja\", \"Cantidad\": 30}]}, {\"Verdura\": [{\"Nombre\": \"Lechuga\", \"Cantidad\": 80}, {\"Nombre\": \"Tomate\", \"Cantidad\": 15}, {\"Nombre\": \"Pepino\", \"Cantidad\": 50}]}]}\n",
      "<type 'str'>\n"
     ]
    }
   ],
   "source": [
    "prueba1_string = json.dumps(prueba1)\n",
    "print prueba1_string\n",
    "\n",
    "print type(prueba1_string)"
   ]
  },
  {
   "cell_type": "code",
   "execution_count": 5,
   "metadata": {
    "collapsed": false
   },
   "outputs": [
    {
     "data": {
      "text/plain": [
       "{u'Fruteria': [{u'Fruta': [{u'Cantidad': 10, u'Nombre': u'Manzana'},\n",
       "    {u'Cantidad': 20, u'Nombre': u'Pera'},\n",
       "    {u'Cantidad': 30, u'Nombre': u'Naranja'}]},\n",
       "  {u'Verdura': [{u'Cantidad': 80, u'Nombre': u'Lechuga'},\n",
       "    {u'Cantidad': 15, u'Nombre': u'Tomate'},\n",
       "    {u'Cantidad': 50, u'Nombre': u'Pepino'}]}]}"
      ]
     },
     "execution_count": 5,
     "metadata": {},
     "output_type": "execute_result"
    }
   ],
   "source": [
    "json.loads(prueba1_string)"
   ]
  },
  {
   "cell_type": "code",
   "execution_count": 6,
   "metadata": {
    "collapsed": false
   },
   "outputs": [
    {
     "data": {
      "text/html": [
       "<div>\n",
       "<table border=\"1\" class=\"dataframe\">\n",
       "  <thead>\n",
       "    <tr style=\"text-align: right;\">\n",
       "      <th></th>\n",
       "      <th>Fruteria</th>\n",
       "    </tr>\n",
       "  </thead>\n",
       "  <tbody>\n",
       "    <tr>\n",
       "      <th>0</th>\n",
       "      <td>{u'Fruta': [{u'Nombre': u'Manzana', u'Cantidad...</td>\n",
       "    </tr>\n",
       "    <tr>\n",
       "      <th>1</th>\n",
       "      <td>{u'Verdura': [{u'Nombre': u'Lechuga', u'Cantid...</td>\n",
       "    </tr>\n",
       "  </tbody>\n",
       "</table>\n",
       "</div>"
      ],
      "text/plain": [
       "                                            Fruteria\n",
       "0  {u'Fruta': [{u'Nombre': u'Manzana', u'Cantidad...\n",
       "1  {u'Verdura': [{u'Nombre': u'Lechuga', u'Cantid..."
      ]
     },
     "execution_count": 6,
     "metadata": {},
     "output_type": "execute_result"
    }
   ],
   "source": [
    "df_prueba = pd.read_json(prueba1_string)\n",
    "df_prueba"
   ]
  },
  {
   "cell_type": "code",
   "execution_count": 7,
   "metadata": {
    "collapsed": false
   },
   "outputs": [
    {
     "name": "stdout",
     "output_type": "stream",
     "text": [
      "<type 'file'>\n",
      "<type 'str'>\n",
      "{\"_id\":\"838720064958443520\",\"truncated\":false,\"text\":\"Excelente semana de labores a tod@s (@ Instituto Antonio Peña Celi in Loja) https://t.co/BX4CmeSPvl\",\"is_quote_status\":false,\"id\":{\"$numberLong\":\"838720064958443520\"},\"favorite_count\":0,\"textFix\":\"excelente semana de labores a tod@s (@ instituto antonio pena celi in loja) https://t.co/bx4cmespvl\",\"sourceFix\":\"\\u003ca href=\\\"http://foursquare.com\\\" rel=\\\"nofollow\\\"\\u003efoursquare\\u003c/a\\u003e\",\"created_at_localtime\":{\"$date\":\"2017-03-06T06:57:00.000Z\"},\"retweeted\":false,\"coordinates\":{\"type\":\"Point\",\"coordinates\":[-79.20304415,-3.99452971]},\"timestamp_ms\":\"1488801420808\",\"entities\":{\"user_mentions\":[],\"symbols\":[],\"hashtags\":[],\"urls\":[{\"url\":\"https://t.co/BX4CmeSPvl\",\"indices\":[76,99],\"expanded_url\":\"https://www.swarmapp.com/c/ejHEvxEoYJs\",\"display_url\":\"swarmapp.com/c/ejHEvxEoYJs\"}]},\"retweet_count\":0,\"favorited\":false,\"user\":{\"profile_use_background_image\":true,\"default_profile_image\":false,\"id\":52524273,\"verified\":false,\"time_zoneFix\":\"quito\",\"profile_image_url_https\":\"https://pbs.twimg.com/profile_images/796818200780558336/sJmr5m-b_normal.jpg\",\"profile_sidebar_fill_color\":\"C0DFEC\",\"nameFix\":\"diego saavedra\",\"geo_enabled\":true,\"profile_text_color\":\"333333\",\"followers_count\":1530,\"protected\":false,\"location\":\"Loja, Ecuador\",\"profile_background_color\":\"022330\",\"id_str\":\"52524273\",\"utc_offset\":-18000,\"statuses_count\":39583,\"description\":\"☭ Creador de @aprende_libre, Presidente de @ChilalitoEC, mediador, geek, bofh, gnu/linux user, python developer, aprendiz de hacker, emprendedor\",\"friends_count\":1360,\"profile_link_color\":\"3B94D9\",\"profile_image_url\":\"http://pbs.twimg.com/profile_images/796818200780558336/sJmr5m-b_normal.jpg\",\"screen_nameFix\":\"statick_ds\",\"profile_background_image_url_https\":\"https://pbs.twimg.com/profile_background_images/621917954/qp6mwkq7jv0vcav3s5wr.gif\",\"profile_banner_url\":\"https://pbs.twimg.com/profile_banners/52524273/1458781338\",\"locationFix\":\"loja, ecuador\",\"profile_background_image_url\":\"http://pbs.twimg.com/profile_background_images/621917954/qp6mwkq7jv0vcav3s5wr.gif\",\"screen_name\":\"Statick_ds\",\"lang\":\"es\",\"profile_background_tile\":true,\"favourites_count\":3808,\"name\":\"Diego Saavedra\",\"url\":\"http://www.chilalito.com\",\"created_at\":{\"$date\":\"2009-06-30T21:17:53.000Z\"},\"contributors_enabled\":false,\"time_zone\":\"Quito\",\"descriptionFix\":\" creador de @aprende_libre, presidente de @chilalitoec, mediador, geek, bofh, gnu/linux user, python developer, aprendiz de hacker, emprendedor\",\"profile_sidebar_border_color\":\"FFFFFF\",\"default_profile\":false,\"is_translator\":false,\"listed_count\":259},\"geo\":{\"type\":\"Point\",\"coordinates\":[-3.99452971,-79.20304415]},\"possibly_sensitive\":false,\"source\":\"\\u003ca href=\\\"http://foursquare.com\\\" rel=\\\"nofollow\\\"\\u003eFoursquare\\u003c/a\\u003e\",\"lang\":\"es\",\"created_at\":{\"$date\":\"2017-03-06T11:57:00.000Z\"},\"filter_level\":\"low\",\"place\":{\"full_name\":\"Loja, Ecuador\",\"url\":\"https://api.twitter.com/1.1/geo/id/01da0f365a77a199.json\",\"country\":\"Ecuador\",\"place_type\":\"city\",\"bounding_box\":{\"type\":\"Polygon\",\"coordinates\":[[[-79.546384,-4.510835],[-79.546384,-3.672156],[-79.100275,-3.672156],[-79.100275,-4.510835]]],\"typeFix\":\"polygon\"},\"country_code\":\"EC\",\"attributes\":{},\"id\":\"01da0f365a77a199\",\"name\":\"Loja\"},\"timezone_info\":{\"timezone\":\"America/Guayaquil\",\"obtained_from\":\"coordinates\",\"dif_hours_UTC\":-5.0,\"DST\":false}}\n",
      "\n"
     ]
    }
   ],
   "source": [
    "data = open('./Data/tweets1.json')\n",
    "print type(data)\n",
    "print type(data.next())\n",
    "data.seek(0)\n",
    "print data.next()"
   ]
  },
  {
   "cell_type": "code",
   "execution_count": 8,
   "metadata": {
    "collapsed": false
   },
   "outputs": [
    {
     "name": "stdout",
     "output_type": "stream",
     "text": [
      "{\"iss_position\": {\"latitude\": \"32.2193\", \"longitude\": \"14.7556\"}, \"message\": \"success\", \"timestamp\": 1492706687}\n",
      "<class 'requests.models.Response'>\n",
      "<type 'str'>\n"
     ]
    }
   ],
   "source": [
    "import requests\n",
    "r = requests.get('http://api.open-notify.org/iss-now.json')\n",
    "print r.content\n",
    "print type(r)\n",
    "print type(r.content)"
   ]
  },
  {
   "cell_type": "code",
   "execution_count": 9,
   "metadata": {
    "collapsed": false
   },
   "outputs": [
    {
     "name": "stdout",
     "output_type": "stream",
     "text": [
      "{u'timestamp': 1492706687, u'message': u'success', u'iss_position': {u'latitude': u'32.2193', u'longitude': u'14.7556'}}\n",
      "<type 'dict'>\n"
     ]
    }
   ],
   "source": [
    "pos = json.loads(r.content)\n",
    "print pos\n",
    "print type(pos)"
   ]
  },
  {
   "cell_type": "code",
   "execution_count": 10,
   "metadata": {
    "collapsed": false
   },
   "outputs": [
    {
     "name": "stdout",
     "output_type": "stream",
     "text": [
      "<class 'pandas.core.frame.DataFrame'>\n",
      "Index([u'_id', u'coordinates', u'created_at', u'created_at_localtime',\n",
      "       u'entities', u'favorite_count', u'favorited', u'filter_level', u'geo',\n",
      "       u'id', u'is_quote_status', u'lang', u'place', u'possibly_sensitive',\n",
      "       u'retweet_count', u'retweeted', u'source', u'sourceFix', u'text',\n",
      "       u'textFix', u'timestamp_ms', u'timezone_info', u'truncated', u'user'],\n",
      "      dtype='object')\n",
      "(58, 24)\n"
     ]
    },
    {
     "data": {
      "text/html": [
       "<div>\n",
       "<table border=\"1\" class=\"dataframe\">\n",
       "  <thead>\n",
       "    <tr style=\"text-align: right;\">\n",
       "      <th></th>\n",
       "      <th>_id</th>\n",
       "      <th>coordinates</th>\n",
       "      <th>created_at</th>\n",
       "      <th>created_at_localtime</th>\n",
       "      <th>entities</th>\n",
       "      <th>favorite_count</th>\n",
       "      <th>favorited</th>\n",
       "      <th>filter_level</th>\n",
       "      <th>geo</th>\n",
       "      <th>id</th>\n",
       "      <th>...</th>\n",
       "      <th>retweet_count</th>\n",
       "      <th>retweeted</th>\n",
       "      <th>source</th>\n",
       "      <th>sourceFix</th>\n",
       "      <th>text</th>\n",
       "      <th>textFix</th>\n",
       "      <th>timestamp_ms</th>\n",
       "      <th>timezone_info</th>\n",
       "      <th>truncated</th>\n",
       "      <th>user</th>\n",
       "    </tr>\n",
       "  </thead>\n",
       "  <tbody>\n",
       "    <tr>\n",
       "      <th>$date</th>\n",
       "      <td>838720064958443520</td>\n",
       "      <td>NaN</td>\n",
       "      <td>2017-03-06 11:57:00</td>\n",
       "      <td>2017-03-06T06:57:00.000Z</td>\n",
       "      <td>NaN</td>\n",
       "      <td>0</td>\n",
       "      <td>False</td>\n",
       "      <td>low</td>\n",
       "      <td>NaN</td>\n",
       "      <td>NaN</td>\n",
       "      <td>...</td>\n",
       "      <td>0</td>\n",
       "      <td>False</td>\n",
       "      <td>&lt;a href=\"http://foursquare.com\" rel=\"nofollow\"...</td>\n",
       "      <td>&lt;a href=\"http://foursquare.com\" rel=\"nofollow\"...</td>\n",
       "      <td>Excelente semana de labores a tod@s (@ Institu...</td>\n",
       "      <td>excelente semana de labores a tod@s (@ institu...</td>\n",
       "      <td>2017-03-06 11:57:00.808</td>\n",
       "      <td>NaN</td>\n",
       "      <td>False</td>\n",
       "      <td>NaN</td>\n",
       "    </tr>\n",
       "    <tr>\n",
       "      <th>$numberLong</th>\n",
       "      <td>838720064958443520</td>\n",
       "      <td>NaN</td>\n",
       "      <td>NaT</td>\n",
       "      <td>NaN</td>\n",
       "      <td>NaN</td>\n",
       "      <td>0</td>\n",
       "      <td>False</td>\n",
       "      <td>low</td>\n",
       "      <td>NaN</td>\n",
       "      <td>8.387201e+17</td>\n",
       "      <td>...</td>\n",
       "      <td>0</td>\n",
       "      <td>False</td>\n",
       "      <td>&lt;a href=\"http://foursquare.com\" rel=\"nofollow\"...</td>\n",
       "      <td>&lt;a href=\"http://foursquare.com\" rel=\"nofollow\"...</td>\n",
       "      <td>Excelente semana de labores a tod@s (@ Institu...</td>\n",
       "      <td>excelente semana de labores a tod@s (@ institu...</td>\n",
       "      <td>2017-03-06 11:57:00.808</td>\n",
       "      <td>NaN</td>\n",
       "      <td>False</td>\n",
       "      <td>NaN</td>\n",
       "    </tr>\n",
       "    <tr>\n",
       "      <th>DST</th>\n",
       "      <td>838720064958443520</td>\n",
       "      <td>NaN</td>\n",
       "      <td>NaT</td>\n",
       "      <td>NaN</td>\n",
       "      <td>NaN</td>\n",
       "      <td>0</td>\n",
       "      <td>False</td>\n",
       "      <td>low</td>\n",
       "      <td>NaN</td>\n",
       "      <td>NaN</td>\n",
       "      <td>...</td>\n",
       "      <td>0</td>\n",
       "      <td>False</td>\n",
       "      <td>&lt;a href=\"http://foursquare.com\" rel=\"nofollow\"...</td>\n",
       "      <td>&lt;a href=\"http://foursquare.com\" rel=\"nofollow\"...</td>\n",
       "      <td>Excelente semana de labores a tod@s (@ Institu...</td>\n",
       "      <td>excelente semana de labores a tod@s (@ institu...</td>\n",
       "      <td>2017-03-06 11:57:00.808</td>\n",
       "      <td>False</td>\n",
       "      <td>False</td>\n",
       "      <td>NaN</td>\n",
       "    </tr>\n",
       "    <tr>\n",
       "      <th>attributes</th>\n",
       "      <td>838720064958443520</td>\n",
       "      <td>NaN</td>\n",
       "      <td>NaT</td>\n",
       "      <td>NaN</td>\n",
       "      <td>NaN</td>\n",
       "      <td>0</td>\n",
       "      <td>False</td>\n",
       "      <td>low</td>\n",
       "      <td>NaN</td>\n",
       "      <td>NaN</td>\n",
       "      <td>...</td>\n",
       "      <td>0</td>\n",
       "      <td>False</td>\n",
       "      <td>&lt;a href=\"http://foursquare.com\" rel=\"nofollow\"...</td>\n",
       "      <td>&lt;a href=\"http://foursquare.com\" rel=\"nofollow\"...</td>\n",
       "      <td>Excelente semana de labores a tod@s (@ Institu...</td>\n",
       "      <td>excelente semana de labores a tod@s (@ institu...</td>\n",
       "      <td>2017-03-06 11:57:00.808</td>\n",
       "      <td>NaN</td>\n",
       "      <td>False</td>\n",
       "      <td>NaN</td>\n",
       "    </tr>\n",
       "    <tr>\n",
       "      <th>bounding_box</th>\n",
       "      <td>838720064958443520</td>\n",
       "      <td>NaN</td>\n",
       "      <td>NaT</td>\n",
       "      <td>NaN</td>\n",
       "      <td>NaN</td>\n",
       "      <td>0</td>\n",
       "      <td>False</td>\n",
       "      <td>low</td>\n",
       "      <td>NaN</td>\n",
       "      <td>NaN</td>\n",
       "      <td>...</td>\n",
       "      <td>0</td>\n",
       "      <td>False</td>\n",
       "      <td>&lt;a href=\"http://foursquare.com\" rel=\"nofollow\"...</td>\n",
       "      <td>&lt;a href=\"http://foursquare.com\" rel=\"nofollow\"...</td>\n",
       "      <td>Excelente semana de labores a tod@s (@ Institu...</td>\n",
       "      <td>excelente semana de labores a tod@s (@ institu...</td>\n",
       "      <td>2017-03-06 11:57:00.808</td>\n",
       "      <td>NaN</td>\n",
       "      <td>False</td>\n",
       "      <td>NaN</td>\n",
       "    </tr>\n",
       "  </tbody>\n",
       "</table>\n",
       "<p>5 rows × 24 columns</p>\n",
       "</div>"
      ],
      "text/plain": [
       "                             _id coordinates          created_at  \\\n",
       "$date         838720064958443520         NaN 2017-03-06 11:57:00   \n",
       "$numberLong   838720064958443520         NaN                 NaT   \n",
       "DST           838720064958443520         NaN                 NaT   \n",
       "attributes    838720064958443520         NaN                 NaT   \n",
       "bounding_box  838720064958443520         NaN                 NaT   \n",
       "\n",
       "                  created_at_localtime entities  favorite_count favorited  \\\n",
       "$date         2017-03-06T06:57:00.000Z      NaN               0     False   \n",
       "$numberLong                        NaN      NaN               0     False   \n",
       "DST                                NaN      NaN               0     False   \n",
       "attributes                         NaN      NaN               0     False   \n",
       "bounding_box                       NaN      NaN               0     False   \n",
       "\n",
       "             filter_level  geo            id ...  retweet_count retweeted  \\\n",
       "$date                 low  NaN           NaN ...              0     False   \n",
       "$numberLong           low  NaN  8.387201e+17 ...              0     False   \n",
       "DST                   low  NaN           NaN ...              0     False   \n",
       "attributes            low  NaN           NaN ...              0     False   \n",
       "bounding_box          low  NaN           NaN ...              0     False   \n",
       "\n",
       "                                                         source  \\\n",
       "$date         <a href=\"http://foursquare.com\" rel=\"nofollow\"...   \n",
       "$numberLong   <a href=\"http://foursquare.com\" rel=\"nofollow\"...   \n",
       "DST           <a href=\"http://foursquare.com\" rel=\"nofollow\"...   \n",
       "attributes    <a href=\"http://foursquare.com\" rel=\"nofollow\"...   \n",
       "bounding_box  <a href=\"http://foursquare.com\" rel=\"nofollow\"...   \n",
       "\n",
       "                                                      sourceFix  \\\n",
       "$date         <a href=\"http://foursquare.com\" rel=\"nofollow\"...   \n",
       "$numberLong   <a href=\"http://foursquare.com\" rel=\"nofollow\"...   \n",
       "DST           <a href=\"http://foursquare.com\" rel=\"nofollow\"...   \n",
       "attributes    <a href=\"http://foursquare.com\" rel=\"nofollow\"...   \n",
       "bounding_box  <a href=\"http://foursquare.com\" rel=\"nofollow\"...   \n",
       "\n",
       "                                                           text  \\\n",
       "$date         Excelente semana de labores a tod@s (@ Institu...   \n",
       "$numberLong   Excelente semana de labores a tod@s (@ Institu...   \n",
       "DST           Excelente semana de labores a tod@s (@ Institu...   \n",
       "attributes    Excelente semana de labores a tod@s (@ Institu...   \n",
       "bounding_box  Excelente semana de labores a tod@s (@ Institu...   \n",
       "\n",
       "                                                        textFix  \\\n",
       "$date         excelente semana de labores a tod@s (@ institu...   \n",
       "$numberLong   excelente semana de labores a tod@s (@ institu...   \n",
       "DST           excelente semana de labores a tod@s (@ institu...   \n",
       "attributes    excelente semana de labores a tod@s (@ institu...   \n",
       "bounding_box  excelente semana de labores a tod@s (@ institu...   \n",
       "\n",
       "                        timestamp_ms timezone_info truncated user  \n",
       "$date        2017-03-06 11:57:00.808           NaN     False  NaN  \n",
       "$numberLong  2017-03-06 11:57:00.808           NaN     False  NaN  \n",
       "DST          2017-03-06 11:57:00.808         False     False  NaN  \n",
       "attributes   2017-03-06 11:57:00.808           NaN     False  NaN  \n",
       "bounding_box 2017-03-06 11:57:00.808           NaN     False  NaN  \n",
       "\n",
       "[5 rows x 24 columns]"
      ]
     },
     "execution_count": 10,
     "metadata": {},
     "output_type": "execute_result"
    }
   ],
   "source": [
    "data.seek(0)\n",
    "linea1 = pd.read_json(data.next())\n",
    "print type(linea1)\n",
    "print linea1.columns\n",
    "print linea1.shape\n",
    "linea1.head(5)"
   ]
  },
  {
   "cell_type": "code",
   "execution_count": 11,
   "metadata": {
    "collapsed": false
   },
   "outputs": [
    {
     "data": {
      "text/html": [
       "<div>\n",
       "<table border=\"1\" class=\"dataframe\">\n",
       "  <thead>\n",
       "    <tr style=\"text-align: right;\">\n",
       "      <th></th>\n",
       "      <th>a</th>\n",
       "      <th>b</th>\n",
       "    </tr>\n",
       "  </thead>\n",
       "  <tbody>\n",
       "    <tr>\n",
       "      <th>0</th>\n",
       "      <td>1</td>\n",
       "      <td>2</td>\n",
       "    </tr>\n",
       "    <tr>\n",
       "      <th>1</th>\n",
       "      <td>3</td>\n",
       "      <td>4</td>\n",
       "    </tr>\n",
       "  </tbody>\n",
       "</table>\n",
       "</div>"
      ],
      "text/plain": [
       "   a  b\n",
       "0  1  2\n",
       "1  3  4"
      ]
     },
     "execution_count": 11,
     "metadata": {},
     "output_type": "execute_result"
    }
   ],
   "source": [
    "test='''{\"a\":1,\"b\":2}\n",
    "{\"a\":3,\"b\":4}'''\n",
    "#df=pd.read_json(test,orient='records') doesn't work, expects []\n",
    "\n",
    "l=[ json.loads(l) for l in test.splitlines()]\n",
    "df=pd.DataFrame(l)\n",
    "df"
   ]
  },
  {
   "cell_type": "code",
   "execution_count": 12,
   "metadata": {
    "collapsed": false
   },
   "outputs": [
    {
     "data": {
      "text/html": [
       "<div>\n",
       "<table border=\"1\" class=\"dataframe\">\n",
       "  <thead>\n",
       "    <tr style=\"text-align: right;\">\n",
       "      <th></th>\n",
       "      <th>_id</th>\n",
       "      <th>coordinates</th>\n",
       "      <th>created_at</th>\n",
       "      <th>created_at_localtime</th>\n",
       "      <th>display_text_range</th>\n",
       "      <th>entities</th>\n",
       "      <th>extended_entities</th>\n",
       "      <th>extended_tweet</th>\n",
       "      <th>favorite_count</th>\n",
       "      <th>favorited</th>\n",
       "      <th>...</th>\n",
       "      <th>retweet_count</th>\n",
       "      <th>retweeted</th>\n",
       "      <th>source</th>\n",
       "      <th>sourceFix</th>\n",
       "      <th>text</th>\n",
       "      <th>textFix</th>\n",
       "      <th>timestamp_ms</th>\n",
       "      <th>timezone_info</th>\n",
       "      <th>truncated</th>\n",
       "      <th>user</th>\n",
       "    </tr>\n",
       "  </thead>\n",
       "  <tbody>\n",
       "    <tr>\n",
       "      <th>0</th>\n",
       "      <td>838720064958443520</td>\n",
       "      <td>{u'type': u'Point', u'coordinates': [-79.20304...</td>\n",
       "      <td>{u'$date': u'2017-03-06T11:57:00.000Z'}</td>\n",
       "      <td>{u'$date': u'2017-03-06T06:57:00.000Z'}</td>\n",
       "      <td>NaN</td>\n",
       "      <td>{u'user_mentions': [], u'symbols': [], u'hasht...</td>\n",
       "      <td>NaN</td>\n",
       "      <td>NaN</td>\n",
       "      <td>0</td>\n",
       "      <td>False</td>\n",
       "      <td>...</td>\n",
       "      <td>0</td>\n",
       "      <td>False</td>\n",
       "      <td>&lt;a href=\"http://foursquare.com\" rel=\"nofollow\"...</td>\n",
       "      <td>&lt;a href=\"http://foursquare.com\" rel=\"nofollow\"...</td>\n",
       "      <td>Excelente semana de labores a tod@s (@ Institu...</td>\n",
       "      <td>excelente semana de labores a tod@s (@ institu...</td>\n",
       "      <td>1488801420808</td>\n",
       "      <td>{u'timezone': u'America/Guayaquil', u'obtained...</td>\n",
       "      <td>False</td>\n",
       "      <td>{u'profile_use_background_image': True, u'cont...</td>\n",
       "    </tr>\n",
       "    <tr>\n",
       "      <th>1</th>\n",
       "      <td>838720176581447681</td>\n",
       "      <td>{u'type': u'Point', u'coordinates': [-79.5333,...</td>\n",
       "      <td>{u'$date': u'2017-03-06T11:57:27.000Z'}</td>\n",
       "      <td>{u'$date': u'2017-03-06T06:57:27.000Z'}</td>\n",
       "      <td>NaN</td>\n",
       "      <td>{u'user_mentions': [], u'symbols': [], u'hasht...</td>\n",
       "      <td>NaN</td>\n",
       "      <td>NaN</td>\n",
       "      <td>0</td>\n",
       "      <td>False</td>\n",
       "      <td>...</td>\n",
       "      <td>0</td>\n",
       "      <td>False</td>\n",
       "      <td>&lt;a href=\"http://instagram.com\" rel=\"nofollow\"&gt;...</td>\n",
       "      <td>&lt;a href=\"http://instagram.com\" rel=\"nofollow\"&gt;...</td>\n",
       "      <td>Un dia me dije...ya basta de lo mismo...nunca ...</td>\n",
       "      <td>un dia me dije...ya basta de lo mismo...nunca ...</td>\n",
       "      <td>1488801447421</td>\n",
       "      <td>{u'timezone': u'America/Guayaquil', u'obtained...</td>\n",
       "      <td>False</td>\n",
       "      <td>{u'profile_use_background_image': True, u'cont...</td>\n",
       "    </tr>\n",
       "    <tr>\n",
       "      <th>2</th>\n",
       "      <td>838720534225510404</td>\n",
       "      <td>{u'type': u'Point', u'coordinates': [-78.5833,...</td>\n",
       "      <td>{u'$date': u'2017-03-06T11:58:52.000Z'}</td>\n",
       "      <td>{u'$date': u'2017-03-06T06:58:52.000Z'}</td>\n",
       "      <td>NaN</td>\n",
       "      <td>{u'user_mentions': [], u'symbols': [], u'hasht...</td>\n",
       "      <td>NaN</td>\n",
       "      <td>NaN</td>\n",
       "      <td>0</td>\n",
       "      <td>False</td>\n",
       "      <td>...</td>\n",
       "      <td>0</td>\n",
       "      <td>False</td>\n",
       "      <td>&lt;a href=\"http://instagram.com\" rel=\"nofollow\"&gt;...</td>\n",
       "      <td>&lt;a href=\"http://instagram.com\" rel=\"nofollow\"&gt;...</td>\n",
       "      <td>#PuraRealidad #InicioDeSemana #pensamientodeld...</td>\n",
       "      <td>#purarealidad #iniciodesemana #pensamientodeld...</td>\n",
       "      <td>1488801532690</td>\n",
       "      <td>{u'timezone': u'America/Guayaquil', u'obtained...</td>\n",
       "      <td>False</td>\n",
       "      <td>{u'profile_use_background_image': True, u'defa...</td>\n",
       "    </tr>\n",
       "    <tr>\n",
       "      <th>3</th>\n",
       "      <td>838720814002339840</td>\n",
       "      <td>{u'type': u'Point', u'coordinates': [-78.73340...</td>\n",
       "      <td>{u'$date': u'2017-03-06T11:59:59.000Z'}</td>\n",
       "      <td>{u'$date': u'2017-03-06T11:59:59.000Z'}</td>\n",
       "      <td>NaN</td>\n",
       "      <td>{u'user_mentions': [], u'symbols': [], u'hasht...</td>\n",
       "      <td>NaN</td>\n",
       "      <td>NaN</td>\n",
       "      <td>0</td>\n",
       "      <td>False</td>\n",
       "      <td>...</td>\n",
       "      <td>0</td>\n",
       "      <td>False</td>\n",
       "      <td>&lt;a href=\"http://instagram.com\" rel=\"nofollow\"&gt;...</td>\n",
       "      <td>&lt;a href=\"http://instagram.com\" rel=\"nofollow\"&gt;...</td>\n",
       "      <td>Just posted a photo @ Playa Del Morro Tumaco N...</td>\n",
       "      <td>just posted a photo @ playa del morro tumaco n...</td>\n",
       "      <td>1488801599394</td>\n",
       "      <td>{u'timezone': u'UTC', u'obtained_from': u'plac...</td>\n",
       "      <td>False</td>\n",
       "      <td>{u'profile_use_background_image': True, u'defa...</td>\n",
       "    </tr>\n",
       "    <tr>\n",
       "      <th>4</th>\n",
       "      <td>838720828053270528</td>\n",
       "      <td>{u'type': u'Point', u'coordinates': [-77.15552...</td>\n",
       "      <td>{u'$date': u'2017-03-06T12:00:02.000Z'}</td>\n",
       "      <td>{u'$date': u'2017-03-06T07:00:02.000Z'}</td>\n",
       "      <td>NaN</td>\n",
       "      <td>{u'user_mentions': [], u'symbols': [], u'hasht...</td>\n",
       "      <td>NaN</td>\n",
       "      <td>NaN</td>\n",
       "      <td>0</td>\n",
       "      <td>False</td>\n",
       "      <td>...</td>\n",
       "      <td>0</td>\n",
       "      <td>False</td>\n",
       "      <td>&lt;a href=\"http://foursquare.com\" rel=\"nofollow\"...</td>\n",
       "      <td>&lt;a href=\"http://foursquare.com\" rel=\"nofollow\"...</td>\n",
       "      <td>I'm at Terpel El Encano https://t.co/RqCF2S7hWc</td>\n",
       "      <td>i'm at terpel el encano https://t.co/rqcf2s7hwc</td>\n",
       "      <td>1488801602744</td>\n",
       "      <td>{u'timezone': u'America/Bogota', u'obtained_fr...</td>\n",
       "      <td>False</td>\n",
       "      <td>{u'profile_use_background_image': True, u'defa...</td>\n",
       "    </tr>\n",
       "  </tbody>\n",
       "</table>\n",
       "<p>5 rows × 36 columns</p>\n",
       "</div>"
      ],
      "text/plain": [
       "                  _id                                        coordinates  \\\n",
       "0  838720064958443520  {u'type': u'Point', u'coordinates': [-79.20304...   \n",
       "1  838720176581447681  {u'type': u'Point', u'coordinates': [-79.5333,...   \n",
       "2  838720534225510404  {u'type': u'Point', u'coordinates': [-78.5833,...   \n",
       "3  838720814002339840  {u'type': u'Point', u'coordinates': [-78.73340...   \n",
       "4  838720828053270528  {u'type': u'Point', u'coordinates': [-77.15552...   \n",
       "\n",
       "                                created_at  \\\n",
       "0  {u'$date': u'2017-03-06T11:57:00.000Z'}   \n",
       "1  {u'$date': u'2017-03-06T11:57:27.000Z'}   \n",
       "2  {u'$date': u'2017-03-06T11:58:52.000Z'}   \n",
       "3  {u'$date': u'2017-03-06T11:59:59.000Z'}   \n",
       "4  {u'$date': u'2017-03-06T12:00:02.000Z'}   \n",
       "\n",
       "                      created_at_localtime display_text_range  \\\n",
       "0  {u'$date': u'2017-03-06T06:57:00.000Z'}                NaN   \n",
       "1  {u'$date': u'2017-03-06T06:57:27.000Z'}                NaN   \n",
       "2  {u'$date': u'2017-03-06T06:58:52.000Z'}                NaN   \n",
       "3  {u'$date': u'2017-03-06T11:59:59.000Z'}                NaN   \n",
       "4  {u'$date': u'2017-03-06T07:00:02.000Z'}                NaN   \n",
       "\n",
       "                                            entities extended_entities  \\\n",
       "0  {u'user_mentions': [], u'symbols': [], u'hasht...               NaN   \n",
       "1  {u'user_mentions': [], u'symbols': [], u'hasht...               NaN   \n",
       "2  {u'user_mentions': [], u'symbols': [], u'hasht...               NaN   \n",
       "3  {u'user_mentions': [], u'symbols': [], u'hasht...               NaN   \n",
       "4  {u'user_mentions': [], u'symbols': [], u'hasht...               NaN   \n",
       "\n",
       "  extended_tweet  favorite_count favorited  \\\n",
       "0            NaN               0     False   \n",
       "1            NaN               0     False   \n",
       "2            NaN               0     False   \n",
       "3            NaN               0     False   \n",
       "4            NaN               0     False   \n",
       "\n",
       "                         ...                         retweet_count retweeted  \\\n",
       "0                        ...                                     0     False   \n",
       "1                        ...                                     0     False   \n",
       "2                        ...                                     0     False   \n",
       "3                        ...                                     0     False   \n",
       "4                        ...                                     0     False   \n",
       "\n",
       "                                              source  \\\n",
       "0  <a href=\"http://foursquare.com\" rel=\"nofollow\"...   \n",
       "1  <a href=\"http://instagram.com\" rel=\"nofollow\">...   \n",
       "2  <a href=\"http://instagram.com\" rel=\"nofollow\">...   \n",
       "3  <a href=\"http://instagram.com\" rel=\"nofollow\">...   \n",
       "4  <a href=\"http://foursquare.com\" rel=\"nofollow\"...   \n",
       "\n",
       "                                           sourceFix  \\\n",
       "0  <a href=\"http://foursquare.com\" rel=\"nofollow\"...   \n",
       "1  <a href=\"http://instagram.com\" rel=\"nofollow\">...   \n",
       "2  <a href=\"http://instagram.com\" rel=\"nofollow\">...   \n",
       "3  <a href=\"http://instagram.com\" rel=\"nofollow\">...   \n",
       "4  <a href=\"http://foursquare.com\" rel=\"nofollow\"...   \n",
       "\n",
       "                                                text  \\\n",
       "0  Excelente semana de labores a tod@s (@ Institu...   \n",
       "1  Un dia me dije...ya basta de lo mismo...nunca ...   \n",
       "2  #PuraRealidad #InicioDeSemana #pensamientodeld...   \n",
       "3  Just posted a photo @ Playa Del Morro Tumaco N...   \n",
       "4    I'm at Terpel El Encano https://t.co/RqCF2S7hWc   \n",
       "\n",
       "                                             textFix   timestamp_ms  \\\n",
       "0  excelente semana de labores a tod@s (@ institu...  1488801420808   \n",
       "1  un dia me dije...ya basta de lo mismo...nunca ...  1488801447421   \n",
       "2  #purarealidad #iniciodesemana #pensamientodeld...  1488801532690   \n",
       "3  just posted a photo @ playa del morro tumaco n...  1488801599394   \n",
       "4    i'm at terpel el encano https://t.co/rqcf2s7hwc  1488801602744   \n",
       "\n",
       "                                       timezone_info truncated  \\\n",
       "0  {u'timezone': u'America/Guayaquil', u'obtained...     False   \n",
       "1  {u'timezone': u'America/Guayaquil', u'obtained...     False   \n",
       "2  {u'timezone': u'America/Guayaquil', u'obtained...     False   \n",
       "3  {u'timezone': u'UTC', u'obtained_from': u'plac...     False   \n",
       "4  {u'timezone': u'America/Bogota', u'obtained_fr...     False   \n",
       "\n",
       "                                                user  \n",
       "0  {u'profile_use_background_image': True, u'cont...  \n",
       "1  {u'profile_use_background_image': True, u'cont...  \n",
       "2  {u'profile_use_background_image': True, u'defa...  \n",
       "3  {u'profile_use_background_image': True, u'defa...  \n",
       "4  {u'profile_use_background_image': True, u'defa...  \n",
       "\n",
       "[5 rows x 36 columns]"
      ]
     },
     "execution_count": 12,
     "metadata": {},
     "output_type": "execute_result"
    }
   ],
   "source": [
    "data.seek(0)\n",
    "l=[ json.loads(l) for l in data]\n",
    "df=pd.DataFrame(l)\n",
    "df.head()"
   ]
  },
  {
   "cell_type": "code",
   "execution_count": 13,
   "metadata": {
    "collapsed": false
   },
   "outputs": [
    {
     "data": {
      "text/plain": [
       "(4546, 36)"
      ]
     },
     "execution_count": 13,
     "metadata": {},
     "output_type": "execute_result"
    }
   ],
   "source": [
    "df.shape"
   ]
  },
  {
   "cell_type": "code",
   "execution_count": 14,
   "metadata": {
    "collapsed": false
   },
   "outputs": [
    {
     "data": {
      "text/html": [
       "<div>\n",
       "<table border=\"1\" class=\"dataframe\">\n",
       "  <thead>\n",
       "    <tr style=\"text-align: right;\">\n",
       "      <th></th>\n",
       "      <th>_id</th>\n",
       "      <th>coordinates</th>\n",
       "      <th>created_at</th>\n",
       "      <th>created_at_localtime</th>\n",
       "      <th>display_text_range</th>\n",
       "      <th>entities</th>\n",
       "      <th>extended_entities</th>\n",
       "      <th>extended_tweet</th>\n",
       "      <th>favorite_count</th>\n",
       "      <th>favorited</th>\n",
       "      <th>filter_level</th>\n",
       "      <th>geo</th>\n",
       "      <th>id</th>\n",
       "      <th>in_reply_to_screen_name</th>\n",
       "      <th>in_reply_to_screen_nameFix</th>\n",
       "      <th>in_reply_to_status_id</th>\n",
       "      <th>in_reply_to_status_id_str</th>\n",
       "      <th>in_reply_to_user_id</th>\n",
       "      <th>in_reply_to_user_id_str</th>\n",
       "      <th>is_quote_status</th>\n",
       "      <th>lang</th>\n",
       "      <th>place</th>\n",
       "      <th>possibly_sensitive</th>\n",
       "      <th>quoted_status</th>\n",
       "      <th>quoted_status_id</th>\n",
       "      <th>quoted_status_id_str</th>\n",
       "      <th>retweet_count</th>\n",
       "      <th>retweeted</th>\n",
       "      <th>source</th>\n",
       "      <th>sourceFix</th>\n",
       "      <th>text</th>\n",
       "      <th>textFix</th>\n",
       "      <th>timestamp_ms</th>\n",
       "      <th>timezone_info</th>\n",
       "      <th>truncated</th>\n",
       "      <th>user</th>\n",
       "    </tr>\n",
       "  </thead>\n",
       "  <tbody>\n",
       "    <tr>\n",
       "      <th>0</th>\n",
       "      <td>838720064958443520</td>\n",
       "      <td>{u'type': u'Point', u'coordinates': [-79.20304...</td>\n",
       "      <td>{u'$date': u'2017-03-06T11:57:00.000Z'}</td>\n",
       "      <td>{u'$date': u'2017-03-06T06:57:00.000Z'}</td>\n",
       "      <td>NaN</td>\n",
       "      <td>{u'user_mentions': [], u'symbols': [], u'hasht...</td>\n",
       "      <td>NaN</td>\n",
       "      <td>NaN</td>\n",
       "      <td>0</td>\n",
       "      <td>False</td>\n",
       "      <td>low</td>\n",
       "      <td>{u'type': u'Point', u'coordinates': [-3.994529...</td>\n",
       "      <td>{u'$numberLong': u'838720064958443520'}</td>\n",
       "      <td>NaN</td>\n",
       "      <td>NaN</td>\n",
       "      <td>NaN</td>\n",
       "      <td>NaN</td>\n",
       "      <td>NaN</td>\n",
       "      <td>NaN</td>\n",
       "      <td>False</td>\n",
       "      <td>es</td>\n",
       "      <td>{u'country_code': u'EC', u'url': u'https://api...</td>\n",
       "      <td>False</td>\n",
       "      <td>NaN</td>\n",
       "      <td>NaN</td>\n",
       "      <td>NaN</td>\n",
       "      <td>0</td>\n",
       "      <td>False</td>\n",
       "      <td>&lt;a href=\"http://foursquare.com\" rel=\"nofollow\"...</td>\n",
       "      <td>&lt;a href=\"http://foursquare.com\" rel=\"nofollow\"...</td>\n",
       "      <td>Excelente semana de labores a tod@s (@ Institu...</td>\n",
       "      <td>excelente semana de labores a tod@s (@ institu...</td>\n",
       "      <td>1488801420808</td>\n",
       "      <td>{u'timezone': u'America/Guayaquil', u'obtained...</td>\n",
       "      <td>False</td>\n",
       "      <td>{u'profile_use_background_image': True, u'cont...</td>\n",
       "    </tr>\n",
       "    <tr>\n",
       "      <th>1</th>\n",
       "      <td>838720176581447681</td>\n",
       "      <td>{u'type': u'Point', u'coordinates': [-79.5333,...</td>\n",
       "      <td>{u'$date': u'2017-03-06T11:57:27.000Z'}</td>\n",
       "      <td>{u'$date': u'2017-03-06T06:57:27.000Z'}</td>\n",
       "      <td>NaN</td>\n",
       "      <td>{u'user_mentions': [], u'symbols': [], u'hasht...</td>\n",
       "      <td>NaN</td>\n",
       "      <td>NaN</td>\n",
       "      <td>0</td>\n",
       "      <td>False</td>\n",
       "      <td>low</td>\n",
       "      <td>{u'type': u'Point', u'coordinates': [-2.06667,...</td>\n",
       "      <td>{u'$numberLong': u'838720176581447681'}</td>\n",
       "      <td>NaN</td>\n",
       "      <td>NaN</td>\n",
       "      <td>NaN</td>\n",
       "      <td>NaN</td>\n",
       "      <td>NaN</td>\n",
       "      <td>NaN</td>\n",
       "      <td>False</td>\n",
       "      <td>es</td>\n",
       "      <td>{u'country_code': u'EC', u'url': u'https://api...</td>\n",
       "      <td>False</td>\n",
       "      <td>NaN</td>\n",
       "      <td>NaN</td>\n",
       "      <td>NaN</td>\n",
       "      <td>0</td>\n",
       "      <td>False</td>\n",
       "      <td>&lt;a href=\"http://instagram.com\" rel=\"nofollow\"&gt;...</td>\n",
       "      <td>&lt;a href=\"http://instagram.com\" rel=\"nofollow\"&gt;...</td>\n",
       "      <td>Un dia me dije...ya basta de lo mismo...nunca ...</td>\n",
       "      <td>un dia me dije...ya basta de lo mismo...nunca ...</td>\n",
       "      <td>1488801447421</td>\n",
       "      <td>{u'timezone': u'America/Guayaquil', u'obtained...</td>\n",
       "      <td>False</td>\n",
       "      <td>{u'profile_use_background_image': True, u'cont...</td>\n",
       "    </tr>\n",
       "    <tr>\n",
       "      <th>2</th>\n",
       "      <td>838720534225510404</td>\n",
       "      <td>{u'type': u'Point', u'coordinates': [-78.5833,...</td>\n",
       "      <td>{u'$date': u'2017-03-06T11:58:52.000Z'}</td>\n",
       "      <td>{u'$date': u'2017-03-06T06:58:52.000Z'}</td>\n",
       "      <td>NaN</td>\n",
       "      <td>{u'user_mentions': [], u'symbols': [], u'hasht...</td>\n",
       "      <td>NaN</td>\n",
       "      <td>NaN</td>\n",
       "      <td>0</td>\n",
       "      <td>False</td>\n",
       "      <td>low</td>\n",
       "      <td>{u'type': u'Point', u'coordinates': [-0.25, -7...</td>\n",
       "      <td>{u'$numberLong': u'838720534225510404'}</td>\n",
       "      <td>NaN</td>\n",
       "      <td>NaN</td>\n",
       "      <td>NaN</td>\n",
       "      <td>NaN</td>\n",
       "      <td>NaN</td>\n",
       "      <td>NaN</td>\n",
       "      <td>False</td>\n",
       "      <td>und</td>\n",
       "      <td>{u'country_code': u'EC', u'url': u'https://api...</td>\n",
       "      <td>False</td>\n",
       "      <td>NaN</td>\n",
       "      <td>NaN</td>\n",
       "      <td>NaN</td>\n",
       "      <td>0</td>\n",
       "      <td>False</td>\n",
       "      <td>&lt;a href=\"http://instagram.com\" rel=\"nofollow\"&gt;...</td>\n",
       "      <td>&lt;a href=\"http://instagram.com\" rel=\"nofollow\"&gt;...</td>\n",
       "      <td>#PuraRealidad #InicioDeSemana #pensamientodeld...</td>\n",
       "      <td>#purarealidad #iniciodesemana #pensamientodeld...</td>\n",
       "      <td>1488801532690</td>\n",
       "      <td>{u'timezone': u'America/Guayaquil', u'obtained...</td>\n",
       "      <td>False</td>\n",
       "      <td>{u'profile_use_background_image': True, u'defa...</td>\n",
       "    </tr>\n",
       "    <tr>\n",
       "      <th>3</th>\n",
       "      <td>838720814002339840</td>\n",
       "      <td>{u'type': u'Point', u'coordinates': [-78.73340...</td>\n",
       "      <td>{u'$date': u'2017-03-06T11:59:59.000Z'}</td>\n",
       "      <td>{u'$date': u'2017-03-06T11:59:59.000Z'}</td>\n",
       "      <td>NaN</td>\n",
       "      <td>{u'user_mentions': [], u'symbols': [], u'hasht...</td>\n",
       "      <td>NaN</td>\n",
       "      <td>NaN</td>\n",
       "      <td>0</td>\n",
       "      <td>False</td>\n",
       "      <td>low</td>\n",
       "      <td>{u'type': u'Point', u'coordinates': [1.8292435...</td>\n",
       "      <td>{u'$numberLong': u'838720814002339840'}</td>\n",
       "      <td>NaN</td>\n",
       "      <td>NaN</td>\n",
       "      <td>NaN</td>\n",
       "      <td>NaN</td>\n",
       "      <td>NaN</td>\n",
       "      <td>NaN</td>\n",
       "      <td>False</td>\n",
       "      <td>es</td>\n",
       "      <td>{u'country_code': u'CO', u'url': u'https://api...</td>\n",
       "      <td>False</td>\n",
       "      <td>NaN</td>\n",
       "      <td>NaN</td>\n",
       "      <td>NaN</td>\n",
       "      <td>0</td>\n",
       "      <td>False</td>\n",
       "      <td>&lt;a href=\"http://instagram.com\" rel=\"nofollow\"&gt;...</td>\n",
       "      <td>&lt;a href=\"http://instagram.com\" rel=\"nofollow\"&gt;...</td>\n",
       "      <td>Just posted a photo @ Playa Del Morro Tumaco N...</td>\n",
       "      <td>just posted a photo @ playa del morro tumaco n...</td>\n",
       "      <td>1488801599394</td>\n",
       "      <td>{u'timezone': u'UTC', u'obtained_from': u'plac...</td>\n",
       "      <td>False</td>\n",
       "      <td>{u'profile_use_background_image': True, u'defa...</td>\n",
       "    </tr>\n",
       "    <tr>\n",
       "      <th>4</th>\n",
       "      <td>838720828053270528</td>\n",
       "      <td>{u'type': u'Point', u'coordinates': [-77.15552...</td>\n",
       "      <td>{u'$date': u'2017-03-06T12:00:02.000Z'}</td>\n",
       "      <td>{u'$date': u'2017-03-06T07:00:02.000Z'}</td>\n",
       "      <td>NaN</td>\n",
       "      <td>{u'user_mentions': [], u'symbols': [], u'hasht...</td>\n",
       "      <td>NaN</td>\n",
       "      <td>NaN</td>\n",
       "      <td>0</td>\n",
       "      <td>False</td>\n",
       "      <td>low</td>\n",
       "      <td>{u'type': u'Point', u'coordinates': [1.160964,...</td>\n",
       "      <td>{u'$numberLong': u'838720828053270528'}</td>\n",
       "      <td>NaN</td>\n",
       "      <td>NaN</td>\n",
       "      <td>NaN</td>\n",
       "      <td>NaN</td>\n",
       "      <td>NaN</td>\n",
       "      <td>NaN</td>\n",
       "      <td>False</td>\n",
       "      <td>und</td>\n",
       "      <td>{u'country_code': u'CO', u'url': u'https://api...</td>\n",
       "      <td>False</td>\n",
       "      <td>NaN</td>\n",
       "      <td>NaN</td>\n",
       "      <td>NaN</td>\n",
       "      <td>0</td>\n",
       "      <td>False</td>\n",
       "      <td>&lt;a href=\"http://foursquare.com\" rel=\"nofollow\"...</td>\n",
       "      <td>&lt;a href=\"http://foursquare.com\" rel=\"nofollow\"...</td>\n",
       "      <td>I'm at Terpel El Encano https://t.co/RqCF2S7hWc</td>\n",
       "      <td>i'm at terpel el encano https://t.co/rqcf2s7hwc</td>\n",
       "      <td>1488801602744</td>\n",
       "      <td>{u'timezone': u'America/Bogota', u'obtained_fr...</td>\n",
       "      <td>False</td>\n",
       "      <td>{u'profile_use_background_image': True, u'defa...</td>\n",
       "    </tr>\n",
       "  </tbody>\n",
       "</table>\n",
       "</div>"
      ],
      "text/plain": [
       "                  _id                                        coordinates  \\\n",
       "0  838720064958443520  {u'type': u'Point', u'coordinates': [-79.20304...   \n",
       "1  838720176581447681  {u'type': u'Point', u'coordinates': [-79.5333,...   \n",
       "2  838720534225510404  {u'type': u'Point', u'coordinates': [-78.5833,...   \n",
       "3  838720814002339840  {u'type': u'Point', u'coordinates': [-78.73340...   \n",
       "4  838720828053270528  {u'type': u'Point', u'coordinates': [-77.15552...   \n",
       "\n",
       "                                created_at  \\\n",
       "0  {u'$date': u'2017-03-06T11:57:00.000Z'}   \n",
       "1  {u'$date': u'2017-03-06T11:57:27.000Z'}   \n",
       "2  {u'$date': u'2017-03-06T11:58:52.000Z'}   \n",
       "3  {u'$date': u'2017-03-06T11:59:59.000Z'}   \n",
       "4  {u'$date': u'2017-03-06T12:00:02.000Z'}   \n",
       "\n",
       "                      created_at_localtime display_text_range  \\\n",
       "0  {u'$date': u'2017-03-06T06:57:00.000Z'}                NaN   \n",
       "1  {u'$date': u'2017-03-06T06:57:27.000Z'}                NaN   \n",
       "2  {u'$date': u'2017-03-06T06:58:52.000Z'}                NaN   \n",
       "3  {u'$date': u'2017-03-06T11:59:59.000Z'}                NaN   \n",
       "4  {u'$date': u'2017-03-06T07:00:02.000Z'}                NaN   \n",
       "\n",
       "                                            entities extended_entities  \\\n",
       "0  {u'user_mentions': [], u'symbols': [], u'hasht...               NaN   \n",
       "1  {u'user_mentions': [], u'symbols': [], u'hasht...               NaN   \n",
       "2  {u'user_mentions': [], u'symbols': [], u'hasht...               NaN   \n",
       "3  {u'user_mentions': [], u'symbols': [], u'hasht...               NaN   \n",
       "4  {u'user_mentions': [], u'symbols': [], u'hasht...               NaN   \n",
       "\n",
       "  extended_tweet  favorite_count favorited filter_level  \\\n",
       "0            NaN               0     False          low   \n",
       "1            NaN               0     False          low   \n",
       "2            NaN               0     False          low   \n",
       "3            NaN               0     False          low   \n",
       "4            NaN               0     False          low   \n",
       "\n",
       "                                                 geo  \\\n",
       "0  {u'type': u'Point', u'coordinates': [-3.994529...   \n",
       "1  {u'type': u'Point', u'coordinates': [-2.06667,...   \n",
       "2  {u'type': u'Point', u'coordinates': [-0.25, -7...   \n",
       "3  {u'type': u'Point', u'coordinates': [1.8292435...   \n",
       "4  {u'type': u'Point', u'coordinates': [1.160964,...   \n",
       "\n",
       "                                        id in_reply_to_screen_name  \\\n",
       "0  {u'$numberLong': u'838720064958443520'}                     NaN   \n",
       "1  {u'$numberLong': u'838720176581447681'}                     NaN   \n",
       "2  {u'$numberLong': u'838720534225510404'}                     NaN   \n",
       "3  {u'$numberLong': u'838720814002339840'}                     NaN   \n",
       "4  {u'$numberLong': u'838720828053270528'}                     NaN   \n",
       "\n",
       "  in_reply_to_screen_nameFix in_reply_to_status_id in_reply_to_status_id_str  \\\n",
       "0                        NaN                   NaN                       NaN   \n",
       "1                        NaN                   NaN                       NaN   \n",
       "2                        NaN                   NaN                       NaN   \n",
       "3                        NaN                   NaN                       NaN   \n",
       "4                        NaN                   NaN                       NaN   \n",
       "\n",
       "  in_reply_to_user_id in_reply_to_user_id_str is_quote_status lang  \\\n",
       "0                 NaN                     NaN           False   es   \n",
       "1                 NaN                     NaN           False   es   \n",
       "2                 NaN                     NaN           False  und   \n",
       "3                 NaN                     NaN           False   es   \n",
       "4                 NaN                     NaN           False  und   \n",
       "\n",
       "                                               place possibly_sensitive  \\\n",
       "0  {u'country_code': u'EC', u'url': u'https://api...              False   \n",
       "1  {u'country_code': u'EC', u'url': u'https://api...              False   \n",
       "2  {u'country_code': u'EC', u'url': u'https://api...              False   \n",
       "3  {u'country_code': u'CO', u'url': u'https://api...              False   \n",
       "4  {u'country_code': u'CO', u'url': u'https://api...              False   \n",
       "\n",
       "  quoted_status quoted_status_id quoted_status_id_str  retweet_count  \\\n",
       "0           NaN              NaN                  NaN              0   \n",
       "1           NaN              NaN                  NaN              0   \n",
       "2           NaN              NaN                  NaN              0   \n",
       "3           NaN              NaN                  NaN              0   \n",
       "4           NaN              NaN                  NaN              0   \n",
       "\n",
       "  retweeted                                             source  \\\n",
       "0     False  <a href=\"http://foursquare.com\" rel=\"nofollow\"...   \n",
       "1     False  <a href=\"http://instagram.com\" rel=\"nofollow\">...   \n",
       "2     False  <a href=\"http://instagram.com\" rel=\"nofollow\">...   \n",
       "3     False  <a href=\"http://instagram.com\" rel=\"nofollow\">...   \n",
       "4     False  <a href=\"http://foursquare.com\" rel=\"nofollow\"...   \n",
       "\n",
       "                                           sourceFix  \\\n",
       "0  <a href=\"http://foursquare.com\" rel=\"nofollow\"...   \n",
       "1  <a href=\"http://instagram.com\" rel=\"nofollow\">...   \n",
       "2  <a href=\"http://instagram.com\" rel=\"nofollow\">...   \n",
       "3  <a href=\"http://instagram.com\" rel=\"nofollow\">...   \n",
       "4  <a href=\"http://foursquare.com\" rel=\"nofollow\"...   \n",
       "\n",
       "                                                text  \\\n",
       "0  Excelente semana de labores a tod@s (@ Institu...   \n",
       "1  Un dia me dije...ya basta de lo mismo...nunca ...   \n",
       "2  #PuraRealidad #InicioDeSemana #pensamientodeld...   \n",
       "3  Just posted a photo @ Playa Del Morro Tumaco N...   \n",
       "4    I'm at Terpel El Encano https://t.co/RqCF2S7hWc   \n",
       "\n",
       "                                             textFix   timestamp_ms  \\\n",
       "0  excelente semana de labores a tod@s (@ institu...  1488801420808   \n",
       "1  un dia me dije...ya basta de lo mismo...nunca ...  1488801447421   \n",
       "2  #purarealidad #iniciodesemana #pensamientodeld...  1488801532690   \n",
       "3  just posted a photo @ playa del morro tumaco n...  1488801599394   \n",
       "4    i'm at terpel el encano https://t.co/rqcf2s7hwc  1488801602744   \n",
       "\n",
       "                                       timezone_info truncated  \\\n",
       "0  {u'timezone': u'America/Guayaquil', u'obtained...     False   \n",
       "1  {u'timezone': u'America/Guayaquil', u'obtained...     False   \n",
       "2  {u'timezone': u'America/Guayaquil', u'obtained...     False   \n",
       "3  {u'timezone': u'UTC', u'obtained_from': u'plac...     False   \n",
       "4  {u'timezone': u'America/Bogota', u'obtained_fr...     False   \n",
       "\n",
       "                                                user  \n",
       "0  {u'profile_use_background_image': True, u'cont...  \n",
       "1  {u'profile_use_background_image': True, u'cont...  \n",
       "2  {u'profile_use_background_image': True, u'defa...  \n",
       "3  {u'profile_use_background_image': True, u'defa...  \n",
       "4  {u'profile_use_background_image': True, u'defa...  "
      ]
     },
     "execution_count": 14,
     "metadata": {},
     "output_type": "execute_result"
    }
   ],
   "source": [
    "pd.set_option(\"display.max_columns\", 50)\n",
    "df.head()"
   ]
  },
  {
   "cell_type": "code",
   "execution_count": 15,
   "metadata": {
    "collapsed": false
   },
   "outputs": [
    {
     "data": {
      "text/plain": [
       "0    {u'country_code': u'EC', u'url': u'https://api...\n",
       "1    {u'country_code': u'EC', u'url': u'https://api...\n",
       "2    {u'country_code': u'EC', u'url': u'https://api...\n",
       "3    {u'country_code': u'CO', u'url': u'https://api...\n",
       "4    {u'country_code': u'CO', u'url': u'https://api...\n",
       "Name: place, dtype: object"
      ]
     },
     "execution_count": 15,
     "metadata": {},
     "output_type": "execute_result"
    }
   ],
   "source": [
    "df[\"place\"].head()"
   ]
  },
  {
   "cell_type": "code",
   "execution_count": 16,
   "metadata": {
    "collapsed": false
   },
   "outputs": [
    {
     "data": {
      "text/plain": [
       "1253    {u'country_code': u'EC', u'url': u'https://api...\n",
       "Name: place, dtype: object"
      ]
     },
     "execution_count": 16,
     "metadata": {},
     "output_type": "execute_result"
    }
   ],
   "source": [
    "df[\"place\"].sample()"
   ]
  },
  {
   "cell_type": "code",
   "execution_count": 17,
   "metadata": {
    "collapsed": false
   },
   "outputs": [
    {
     "name": "stdout",
     "output_type": "stream",
     "text": [
      "1712    {u'country_code': u'EC', u'url': u'https://api...\n",
      "Name: place, dtype: object\n"
     ]
    }
   ],
   "source": [
    "place1 = df[\"place\"].sample()\n",
    "print place1"
   ]
  },
  {
   "cell_type": "code",
   "execution_count": 18,
   "metadata": {
    "collapsed": false
   },
   "outputs": [
    {
     "data": {
      "text/plain": [
       "array([ {u'country_code': u'EC', u'url': u'https://api.twitter.com/1.1/geo/id/009924a469d7ace1.json', u'country': u'Ecuador', u'place_type': u'city', u'bounding_box': {u'type': u'Polygon', u'typeFix': u'polygon', u'coordinates': [[[-80.467605, -3.063716], [-80.467605, -1.962274], [-79.714781, -1.962274], [-79.714781, -3.063716]]]}, u'full_name': u'Guayaquil, Ecuador', u'attributes': {}, u'id': u'009924a469d7ace1', u'name': u'Guayaquil'}], dtype=object)"
      ]
     },
     "execution_count": 18,
     "metadata": {},
     "output_type": "execute_result"
    }
   ],
   "source": [
    "place1.get_values()"
   ]
  },
  {
   "cell_type": "code",
   "execution_count": 19,
   "metadata": {
    "collapsed": false
   },
   "outputs": [
    {
     "name": "stdout",
     "output_type": "stream",
     "text": [
      "{u'country_code': u'EC', u'url': u'https://api.twitter.com/1.1/geo/id/009924a469d7ace1.json', u'country': u'Ecuador', u'place_type': u'city', u'bounding_box': {u'type': u'Polygon', u'typeFix': u'polygon', u'coordinates': [[[-80.467605, -3.063716], [-80.467605, -1.962274], [-79.714781, -1.962274], [-79.714781, -3.063716]]]}, u'full_name': u'Guayaquil, Ecuador', u'attributes': {}, u'id': u'009924a469d7ace1', u'name': u'Guayaquil'}\n"
     ]
    },
    {
     "data": {
      "text/plain": [
       "1"
      ]
     },
     "execution_count": 19,
     "metadata": {},
     "output_type": "execute_result"
    }
   ],
   "source": [
    "for value in place1:\n",
    "    print value\n",
    "    \n",
    "len(place1)"
   ]
  },
  {
   "cell_type": "code",
   "execution_count": 20,
   "metadata": {
    "collapsed": false
   },
   "outputs": [
    {
     "name": "stdout",
     "output_type": "stream",
     "text": [
      "Guayaquil\n"
     ]
    }
   ],
   "source": [
    "for value in place1:\n",
    "    print value[\"name\"]"
   ]
  },
  {
   "cell_type": "code",
   "execution_count": 21,
   "metadata": {
    "collapsed": false
   },
   "outputs": [
    {
     "data": {
      "text/plain": [
       "u'Guayaquil'"
      ]
     },
     "execution_count": 21,
     "metadata": {},
     "output_type": "execute_result"
    }
   ],
   "source": [
    "place1.get_values()[0][\"name\"]"
   ]
  },
  {
   "cell_type": "code",
   "execution_count": 22,
   "metadata": {
    "collapsed": false
   },
   "outputs": [
    {
     "data": {
      "text/plain": [
       "True"
      ]
     },
     "execution_count": 22,
     "metadata": {},
     "output_type": "execute_result"
    }
   ],
   "source": [
    "place1.get_values()[0][\"name\"] == \"Guayaquil\""
   ]
  },
  {
   "cell_type": "code",
   "execution_count": 23,
   "metadata": {
    "collapsed": false
   },
   "outputs": [
    {
     "data": {
      "text/plain": [
       "False"
      ]
     },
     "execution_count": 23,
     "metadata": {},
     "output_type": "execute_result"
    }
   ],
   "source": [
    "df[\"place\"].get_values()[0][\"name\"] == \"Guayaquil\""
   ]
  },
  {
   "cell_type": "code",
   "execution_count": 24,
   "metadata": {
    "collapsed": false
   },
   "outputs": [
    {
     "data": {
      "text/plain": [
       "u'Pasto'"
      ]
     },
     "execution_count": 24,
     "metadata": {},
     "output_type": "execute_result"
    }
   ],
   "source": [
    "df[\"place\"][4][\"name\"]"
   ]
  },
  {
   "cell_type": "code",
   "execution_count": 25,
   "metadata": {
    "collapsed": false
   },
   "outputs": [
    {
     "name": "stdout",
     "output_type": "stream",
     "text": [
      "Loja\n",
      "Milagro\n",
      "Quito\n",
      "San Andres de Tumaco\n",
      "Pasto\n"
     ]
    }
   ],
   "source": [
    "prueba3 = df[\"place\"].tolist()[:5]\n",
    "lista_prueba = []\n",
    "for lugar in prueba3:\n",
    "    print lugar[\"name\"]\n",
    "    lista_prueba.append(lugar[\"name\"])"
   ]
  },
  {
   "cell_type": "code",
   "execution_count": 26,
   "metadata": {
    "collapsed": false
   },
   "outputs": [
    {
     "data": {
      "text/plain": [
       "[u'Loja', u'Milagro', u'Quito', u'San Andres de Tumaco', u'Pasto']"
      ]
     },
     "execution_count": 26,
     "metadata": {},
     "output_type": "execute_result"
    }
   ],
   "source": [
    "lista_prueba"
   ]
  },
  {
   "cell_type": "code",
   "execution_count": 27,
   "metadata": {
    "collapsed": false
   },
   "outputs": [
    {
     "name": "stdout",
     "output_type": "stream",
     "text": [
      "_id                           30\n",
      "coordinates                   30\n",
      "created_at                    30\n",
      "created_at_localtime          30\n",
      "display_text_range             2\n",
      "entities                      17\n",
      "extended_entities              0\n",
      "extended_tweet                 0\n",
      "favorite_count                30\n",
      "favorited                     30\n",
      "filter_level                  30\n",
      "geo                           30\n",
      "id                            30\n",
      "in_reply_to_screen_name        2\n",
      "in_reply_to_screen_nameFix     1\n",
      "in_reply_to_status_id          2\n",
      "in_reply_to_status_id_str      2\n",
      "in_reply_to_user_id            2\n",
      "in_reply_to_user_id_str        2\n",
      "is_quote_status               30\n",
      "lang                          30\n",
      "place                          0\n",
      "possibly_sensitive            15\n",
      "quoted_status                  0\n",
      "quoted_status_id               0\n",
      "quoted_status_id_str           0\n",
      "retweet_count                 30\n",
      "retweeted                     30\n",
      "source                        30\n",
      "sourceFix                     30\n",
      "text                          30\n",
      "textFix                       30\n",
      "timestamp_ms                  30\n",
      "timezone_info                 30\n",
      "truncated                     30\n",
      "user                          30\n",
      "dtype: int64\n",
      "<class 'pandas.core.series.Series'>\n",
      "30\n",
      "4516\n"
     ]
    },
    {
     "data": {
      "text/plain": [
       "7       NaN\n",
       "91      NaN\n",
       "188     NaN\n",
       "506     NaN\n",
       "639     NaN\n",
       "677     NaN\n",
       "854     NaN\n",
       "893     NaN\n",
       "895     NaN\n",
       "898     NaN\n",
       "1032    NaN\n",
       "1087    NaN\n",
       "1394    NaN\n",
       "1609    NaN\n",
       "1651    NaN\n",
       "1731    NaN\n",
       "1809    NaN\n",
       "1855    NaN\n",
       "2157    NaN\n",
       "2452    NaN\n",
       "2709    NaN\n",
       "2966    NaN\n",
       "2991    NaN\n",
       "3087    NaN\n",
       "3580    NaN\n",
       "3941    NaN\n",
       "3987    NaN\n",
       "4194    NaN\n",
       "4353    NaN\n",
       "4487    NaN\n",
       "Name: place, dtype: object"
      ]
     },
     "execution_count": 27,
     "metadata": {},
     "output_type": "execute_result"
    }
   ],
   "source": [
    "print df[df[\"place\"].isnull()].count()\n",
    "print type(df[df[\"place\"].isnull()][\"place\"])\n",
    "print len(df[df[\"place\"].isnull()][\"place\"])\n",
    "ciudades = df[~df[\"place\"].isnull()][\"place\"]\n",
    "print len(ciudades)\n",
    "df[df[\"place\"].isnull()][\"place\"]"
   ]
  },
  {
   "cell_type": "code",
   "execution_count": 28,
   "metadata": {
    "collapsed": false
   },
   "outputs": [
    {
     "name": "stdout",
     "output_type": "stream",
     "text": [
      "<class 'pandas.core.frame.DataFrame'>\n",
      "<class 'pandas.core.series.Series'>\n"
     ]
    }
   ],
   "source": [
    "print type(df[~df[\"place\"].isnull()])\n",
    "print type(df[~df[\"place\"].isnull()][\"place\"])"
   ]
  },
  {
   "cell_type": "code",
   "execution_count": 29,
   "metadata": {
    "collapsed": false
   },
   "outputs": [
    {
     "data": {
      "text/plain": [
       "array([ {u'country_code': u'EC', u'url': u'https://api.twitter.com/1.1/geo/id/01da0f365a77a199.json', u'country': u'Ecuador', u'place_type': u'city', u'bounding_box': {u'type': u'Polygon', u'typeFix': u'polygon', u'coordinates': [[[-79.546384, -4.510835], [-79.546384, -3.672156], [-79.100275, -3.672156], [-79.100275, -4.510835]]]}, u'full_name': u'Loja, Ecuador', u'attributes': {}, u'id': u'01da0f365a77a199', u'name': u'Loja'},\n",
       "       {u'country_code': u'EC', u'url': u'https://api.twitter.com/1.1/geo/id/0039dafe6d412c07.json', u'country': u'Ecuador', u'place_type': u'city', u'bounding_box': {u'type': u'Polygon', u'typeFix': u'polygon', u'coordinates': [[[-79.687083, -2.245476], [-79.687083, -1.96731], [-79.4486, -1.96731], [-79.4486, -2.245476]]]}, u'full_name': u'Milagro, Ecuador', u'attributes': {}, u'id': u'0039dafe6d412c07', u'name': u'Milagro'},\n",
       "       {u'country_code': u'EC', u'url': u'https://api.twitter.com/1.1/geo/id/0177bc687a9ac697.json', u'country': u'Ecuador', u'place_type': u'city', u'bounding_box': {u'type': u'Polygon', u'typeFix': u'polygon', u'coordinates': [[[-78.948466, -0.588618], [-78.948466, 0.255477], [-78.164897, 0.255477], [-78.164897, -0.588618]]]}, u'full_name': u'Quito, Ecuador', u'attributes': {}, u'id': u'0177bc687a9ac697', u'name': u'Quito'},\n",
       "       ...,\n",
       "       {u'country_code': u'EC', u'url': u'https://api.twitter.com/1.1/geo/id/013cb38e7fe501ae.json', u'country': u'Ecuador', u'place_type': u'city', u'bounding_box': {u'type': u'Polygon', u'typeFix': u'polygon', u'coordinates': [[[-79.60064, -3.175114], [-79.60064, -2.556976], [-78.848059, -2.556976], [-78.848059, -3.175114]]]}, u'full_name': u'Cuenca, Ecuador', u'attributes': {}, u'id': u'013cb38e7fe501ae', u'name': u'Cuenca'},\n",
       "       {u'country_code': u'EC', u'url': u'https://api.twitter.com/1.1/geo/id/009a8fd36927ab01.json', u'country': u'Ecuador', u'place_type': u'city', u'bounding_box': {u'type': u'Polygon', u'typeFix': u'polygon', u'coordinates': [[[-80.245148, -3.501957], [-80.245148, -3.418298], [-80.12034, -3.418298], [-80.12034, -3.501957]]]}, u'full_name': u'Huaquillas, Ecuador', u'attributes': {}, u'id': u'009a8fd36927ab01', u'name': u'Huaquillas'},\n",
       "       {u'country_code': u'EC', u'url': u'https://api.twitter.com/1.1/geo/id/0177bc687a9ac697.json', u'country': u'Ecuador', u'place_type': u'city', u'bounding_box': {u'type': u'Polygon', u'typeFix': u'polygon', u'coordinates': [[[-78.948466, -0.588618], [-78.948466, 0.255477], [-78.164897, 0.255477], [-78.164897, -0.588618]]]}, u'full_name': u'Quito, Ecuador', u'attributes': {}, u'id': u'0177bc687a9ac697', u'name': u'Quito'}], dtype=object)"
      ]
     },
     "execution_count": 29,
     "metadata": {},
     "output_type": "execute_result"
    }
   ],
   "source": [
    "df[~df[\"place\"].isnull()][\"place\"].values"
   ]
  },
  {
   "cell_type": "code",
   "execution_count": 30,
   "metadata": {
    "collapsed": false
   },
   "outputs": [
    {
     "data": {
      "text/plain": [
       "0       False\n",
       "1       False\n",
       "2       False\n",
       "3       False\n",
       "4        True\n",
       "5       False\n",
       "6       False\n",
       "8       False\n",
       "9       False\n",
       "10      False\n",
       "11      False\n",
       "12      False\n",
       "13      False\n",
       "14      False\n",
       "15      False\n",
       "16      False\n",
       "17      False\n",
       "18      False\n",
       "19      False\n",
       "20      False\n",
       "21      False\n",
       "22      False\n",
       "23      False\n",
       "24      False\n",
       "25      False\n",
       "26      False\n",
       "27      False\n",
       "28      False\n",
       "29      False\n",
       "30      False\n",
       "        ...  \n",
       "4516    False\n",
       "4517    False\n",
       "4518    False\n",
       "4519    False\n",
       "4520    False\n",
       "4521    False\n",
       "4522    False\n",
       "4523    False\n",
       "4524    False\n",
       "4525    False\n",
       "4526    False\n",
       "4527    False\n",
       "4528    False\n",
       "4529    False\n",
       "4530    False\n",
       "4531    False\n",
       "4532    False\n",
       "4533    False\n",
       "4534    False\n",
       "4535    False\n",
       "4536    False\n",
       "4537    False\n",
       "4538    False\n",
       "4539    False\n",
       "4540    False\n",
       "4541    False\n",
       "4542    False\n",
       "4543    False\n",
       "4544    False\n",
       "4545    False\n",
       "Name: place, dtype: bool"
      ]
     },
     "execution_count": 30,
     "metadata": {},
     "output_type": "execute_result"
    }
   ],
   "source": [
    "df[~df[\"place\"].isnull()][\"place\"].apply(lambda lugar: lugar[\"name\"]) == \"Pasto\""
   ]
  },
  {
   "cell_type": "markdown",
   "metadata": {},
   "source": [
    "###### df[df[~df[\"place\"].isnull()][\"place\"].apply(lambda lugar: lugar[\"name\"]) == \"Pasto\"]\n",
    "\n",
    "    IndexingError: Unalignable boolean Series key provided"
   ]
  },
  {
   "cell_type": "code",
   "execution_count": 31,
   "metadata": {
    "collapsed": false
   },
   "outputs": [
    {
     "name": "stdout",
     "output_type": "stream",
     "text": [
      "<class 'pandas.core.series.Series'>\n",
      "<type 'numpy.ndarray'>\n"
     ]
    },
    {
     "data": {
      "text/plain": [
       "array([False, False, False, ..., False, False, False], dtype=bool)"
      ]
     },
     "execution_count": 31,
     "metadata": {},
     "output_type": "execute_result"
    }
   ],
   "source": [
    "print type(df[~df[\"place\"].isnull()][\"place\"].apply(lambda lugar: lugar[\"name\"]) == \"Pasto\")\n",
    "print type((df[~df[\"place\"].isnull()][\"place\"].apply(lambda lugar: lugar[\"name\"]) == \"Pasto\").values)\n",
    "(df[~df[\"place\"].isnull()][\"place\"].apply(lambda lugar: lugar[\"name\"]) == \"Pasto\").values"
   ]
  },
  {
   "cell_type": "markdown",
   "metadata": {},
   "source": [
    "###### df[(df[~df[\"place\"].isnull()][\"place\"].apply(lambda lugar: lugar[\"name\"]) == \"Pasto\").values]\n",
    "    ValueError: Item wrong length 4516 instead of 4546."
   ]
  },
  {
   "cell_type": "code",
   "execution_count": 32,
   "metadata": {
    "collapsed": false
   },
   "outputs": [
    {
     "name": "stdout",
     "output_type": "stream",
     "text": [
      "(4516, 36)\n"
     ]
    }
   ],
   "source": [
    "df2 = df[~df[\"place\"].isnull()]\n",
    "print df2.shape"
   ]
  },
  {
   "cell_type": "code",
   "execution_count": 33,
   "metadata": {
    "collapsed": false
   },
   "outputs": [
    {
     "name": "stdout",
     "output_type": "stream",
     "text": [
      "Pasto\n",
      "Pasto\n",
      "Pasto\n",
      "Pasto\n",
      "Pasto\n",
      "Pasto\n",
      "Pasto\n",
      "Pasto\n",
      "Pasto\n",
      "Pasto\n",
      "Pasto\n",
      "Pasto\n",
      "Pasto\n",
      "Pasto\n",
      "Pasto\n",
      "Pasto\n",
      "Pasto\n",
      "Pasto\n",
      "Pasto\n",
      "Pasto\n",
      "Pasto\n",
      "Pasto\n",
      "Pasto\n",
      "Pasto\n",
      "Pasto\n",
      "Pasto\n",
      "Pasto\n",
      "Pasto\n"
     ]
    },
    {
     "data": {
      "text/plain": [
       "(28, 36)"
      ]
     },
     "execution_count": 33,
     "metadata": {},
     "output_type": "execute_result"
    }
   ],
   "source": [
    "for lugar in df2[df2[\"place\"].apply(lambda lugar: lugar[\"name\"]) == \"Pasto\"][\"place\"]:\n",
    "    print lugar[\"name\"]\n",
    "df2[df2[\"place\"].apply(lambda lugar: lugar[\"name\"]) == \"Pasto\"].shape"
   ]
  },
  {
   "cell_type": "code",
   "execution_count": 34,
   "metadata": {
    "collapsed": false
   },
   "outputs": [
    {
     "data": {
      "text/plain": [
       "(0, 36)"
      ]
     },
     "execution_count": 34,
     "metadata": {},
     "output_type": "execute_result"
    }
   ],
   "source": [
    "madrid_tweets = df2[df2[\"place\"].apply(lambda lugar: lugar[\"name\"]) == \"Madrid\"]\n",
    "madrid_tweets.shape"
   ]
  },
  {
   "cell_type": "code",
   "execution_count": 35,
   "metadata": {
    "collapsed": true
   },
   "outputs": [],
   "source": [
    "ciudades2 = [lugar[\"name\"] for lugar in ciudades]"
   ]
  },
  {
   "cell_type": "code",
   "execution_count": 36,
   "metadata": {
    "collapsed": false
   },
   "outputs": [
    {
     "data": {
      "text/plain": [
       "{u'Alausi',\n",
       " u'Aldana',\n",
       " u'Alfredo Baquerizo Moreno',\n",
       " u'Altamira',\n",
       " u'Ambato',\n",
       " u'Ancuy\\xe1',\n",
       " u'Arajuno',\n",
       " u'Archidona',\n",
       " u'Arenillas',\n",
       " u'Atacames',\n",
       " u'Azogues',\n",
       " u'Babahoyo',\n",
       " u'Barbacoas',\n",
       " u'Barranca',\n",
       " u'Ba\\xf1os De Agua Santa',\n",
       " u'Bel\\xe9n de los Andaqu\\xedes',\n",
       " u'Bolivar',\n",
       " u'Bol\\xedvar',\n",
       " u'Buena Fe',\n",
       " u'Buesaco',\n",
       " u'Camilo Ponce Enriquez',\n",
       " u'Canoas De Punta Sal',\n",
       " u'Carchi',\n",
       " u'Cascales',\n",
       " u'Castilla',\n",
       " u'Cayambe',\n",
       " u'Centinela Del Condor',\n",
       " u'Chirinos',\n",
       " u'Chone',\n",
       " u'Chordeleg',\n",
       " u'Colombia',\n",
       " u'Colta',\n",
       " u'Col\\xf3n',\n",
       " u'Corrales',\n",
       " u'Cotacachi',\n",
       " u'Crnel. Marcelino Maridue\\xf1a',\n",
       " u'Cuenca',\n",
       " u'Cumanda',\n",
       " u'C\\xf3rdoba',\n",
       " u'Daule',\n",
       " u'Duran',\n",
       " u'Ecuador',\n",
       " u'El Carmen',\n",
       " u'El Charco',\n",
       " u'El Doncello',\n",
       " u'El Guabo',\n",
       " u'El Paujil',\n",
       " u'El Triunfo',\n",
       " u'Empalme',\n",
       " u'Esmeraldas',\n",
       " u'Florencia',\n",
       " u'Garz\\xf3n',\n",
       " u'Giron',\n",
       " u'Gonzanama',\n",
       " u'Guaitarilla',\n",
       " u'Gualaceo',\n",
       " u'Guamote',\n",
       " u'Guano',\n",
       " u'Guaranda',\n",
       " u'Guayaquil',\n",
       " u'Guayas',\n",
       " u'Huaquillas',\n",
       " u'Ibarra',\n",
       " u'Ipiales',\n",
       " u'Isabela',\n",
       " u'Isidro Ayora',\n",
       " u'Isnos',\n",
       " u'Jaramijo',\n",
       " u'Jipijapa',\n",
       " u'Junin',\n",
       " u'La Brea',\n",
       " u'La Concordia',\n",
       " u'La Cruz',\n",
       " u'La Libertad',\n",
       " u'La Mana',\n",
       " u'La Matanza',\n",
       " u'La Troncal',\n",
       " u'Latacunga',\n",
       " u'Lobitos',\n",
       " u'Loja',\n",
       " u'Lomas De Sargentillo',\n",
       " u'Los Angeles',\n",
       " u'Los Organos',\n",
       " u'Machala',\n",
       " u'Manabi',\n",
       " u'Mancora',\n",
       " u'Manga Del Cura',\n",
       " u'Manta',\n",
       " u'Marcavelica',\n",
       " u'Mejia',\n",
       " u'Milagro',\n",
       " u'Mocha',\n",
       " u'Mocoa',\n",
       " u'Montalvo',\n",
       " u'Montecristi',\n",
       " u'Morona',\n",
       " u'Morona Santiago',\n",
       " u'Muisne',\n",
       " u'Napo',\n",
       " u'Naranjal',\n",
       " u'Naranjito',\n",
       " u'Nobol',\n",
       " u'Olmedo',\n",
       " u'Orellana',\n",
       " u'Orito',\n",
       " u'Otavalo',\n",
       " u'Paita',\n",
       " u'Palestina',\n",
       " u'Pallatanga',\n",
       " u'Palora',\n",
       " u'Paltas',\n",
       " u'Pari\\xf1as',\n",
       " u'Pasaje',\n",
       " u'Pastaza',\n",
       " u'Pasto',\n",
       " u'Pedernales',\n",
       " u'Pedro Carbo',\n",
       " u'Pedro Moncayo',\n",
       " u'Penipe',\n",
       " u'Peru',\n",
       " u'Pindal',\n",
       " u'Pitalito',\n",
       " u'Piura',\n",
       " u'Pi\\xf1as',\n",
       " u'Playas',\n",
       " u'Portoviejo',\n",
       " u'Puerto Legu\\xedzamo',\n",
       " u'Puerto Lopez',\n",
       " u'Puerto Rico',\n",
       " u'Pujili',\n",
       " u'Pupiales',\n",
       " u'Putumayo',\n",
       " u'Quevedo',\n",
       " u'Quijos',\n",
       " u'Quininde',\n",
       " u'Quinsaloma',\n",
       " u'Quito',\n",
       " u'Rio Santiago',\n",
       " u'Riobamba',\n",
       " u'Rocafuerte',\n",
       " u'Rumi\\xf1ahui',\n",
       " u'Saladoblanco',\n",
       " u'Salcedo',\n",
       " u'Salinas',\n",
       " u'Salitre',\n",
       " u'Samborondon',\n",
       " u'San Andres de Tumaco',\n",
       " u'San Cristobal',\n",
       " u'San Fernando',\n",
       " u'San Jacinto De Yaguachi',\n",
       " u'San Miguel',\n",
       " u'San Miguel De Urcuqui',\n",
       " u'San Pedro De Pelileo',\n",
       " u'Santa Catalina de Mossa',\n",
       " u'Santa Cruz',\n",
       " u'Santa Elena',\n",
       " u'Santa Isabel',\n",
       " u'Santa Rosa',\n",
       " u'Santiago',\n",
       " u'Santo Domingo',\n",
       " u'Saraguro',\n",
       " u'Sevilla De Oro',\n",
       " u'Sigchos',\n",
       " u'Solano',\n",
       " u'Sotara',\n",
       " u'Sozoranga',\n",
       " u'Sucre',\n",
       " u'Sullana',\n",
       " u'Tena',\n",
       " u'Tulcan',\n",
       " u'Tumbes',\n",
       " u'Urarinas',\n",
       " u'Valencia',\n",
       " u'Ventanas',\n",
       " u'Villagarz\\xf3n',\n",
       " u'Vinces',\n",
       " u'Yacuanquer',\n",
       " u'Yantzaza',\n",
       " u'Zamora',\n",
       " u'Zapotillo',\n",
       " u'Zorritos'}"
      ]
     },
     "execution_count": 36,
     "metadata": {},
     "output_type": "execute_result"
    }
   ],
   "source": [
    "len(set(ciudades2))\n",
    "set(ciudades2)"
   ]
  },
  {
   "cell_type": "code",
   "execution_count": null,
   "metadata": {
    "collapsed": true
   },
   "outputs": [],
   "source": []
  }
 ],
 "metadata": {
  "kernelspec": {
   "display_name": "Python 2",
   "language": "python",
   "name": "python2"
  },
  "language_info": {
   "codemirror_mode": {
    "name": "ipython",
    "version": 2
   },
   "file_extension": ".py",
   "mimetype": "text/x-python",
   "name": "python",
   "nbconvert_exporter": "python",
   "pygments_lexer": "ipython2",
   "version": "2.7.11"
  }
 },
 "nbformat": 4,
 "nbformat_minor": 0
}
