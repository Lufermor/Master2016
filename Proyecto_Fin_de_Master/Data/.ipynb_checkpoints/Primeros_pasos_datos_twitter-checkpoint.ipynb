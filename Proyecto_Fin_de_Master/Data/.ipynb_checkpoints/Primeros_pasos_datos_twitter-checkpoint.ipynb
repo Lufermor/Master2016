{
 "cells": [
  {
   "cell_type": "code",
   "execution_count": 1,
   "metadata": {
    "collapsed": true
   },
   "outputs": [],
   "source": [
    "import pandas as pd\n",
    "import json"
   ]
  },
  {
   "cell_type": "code",
   "execution_count": 2,
   "metadata": {
    "collapsed": false
   },
   "outputs": [
    {
     "name": "stdout",
     "output_type": "stream",
     "text": [
      "<type 'file'>\n",
      "<type 'str'>\n",
      "{\"_id\":\"838720064958443520\",\"truncated\":false,\"text\":\"Excelente semana de labores a tod@s (@ Instituto Antonio Peña Celi in Loja) https://t.co/BX4CmeSPvl\",\"is_quote_status\":false,\"id\":{\"$numberLong\":\"838720064958443520\"},\"favorite_count\":0,\"textFix\":\"excelente semana de labores a tod@s (@ instituto antonio pena celi in loja) https://t.co/bx4cmespvl\",\"sourceFix\":\"\\u003ca href=\\\"http://foursquare.com\\\" rel=\\\"nofollow\\\"\\u003efoursquare\\u003c/a\\u003e\",\"created_at_localtime\":{\"$date\":\"2017-03-06T06:57:00.000Z\"},\"retweeted\":false,\"coordinates\":{\"type\":\"Point\",\"coordinates\":[-79.20304415,-3.99452971]},\"timestamp_ms\":\"1488801420808\",\"entities\":{\"user_mentions\":[],\"symbols\":[],\"hashtags\":[],\"urls\":[{\"url\":\"https://t.co/BX4CmeSPvl\",\"indices\":[76,99],\"expanded_url\":\"https://www.swarmapp.com/c/ejHEvxEoYJs\",\"display_url\":\"swarmapp.com/c/ejHEvxEoYJs\"}]},\"retweet_count\":0,\"favorited\":false,\"user\":{\"profile_use_background_image\":true,\"default_profile_image\":false,\"id\":52524273,\"verified\":false,\"time_zoneFix\":\"quito\",\"profile_image_url_https\":\"https://pbs.twimg.com/profile_images/796818200780558336/sJmr5m-b_normal.jpg\",\"profile_sidebar_fill_color\":\"C0DFEC\",\"nameFix\":\"diego saavedra\",\"geo_enabled\":true,\"profile_text_color\":\"333333\",\"followers_count\":1530,\"protected\":false,\"location\":\"Loja, Ecuador\",\"profile_background_color\":\"022330\",\"id_str\":\"52524273\",\"utc_offset\":-18000,\"statuses_count\":39583,\"description\":\"☭ Creador de @aprende_libre, Presidente de @ChilalitoEC, mediador, geek, bofh, gnu/linux user, python developer, aprendiz de hacker, emprendedor\",\"friends_count\":1360,\"profile_link_color\":\"3B94D9\",\"profile_image_url\":\"http://pbs.twimg.com/profile_images/796818200780558336/sJmr5m-b_normal.jpg\",\"screen_nameFix\":\"statick_ds\",\"profile_background_image_url_https\":\"https://pbs.twimg.com/profile_background_images/621917954/qp6mwkq7jv0vcav3s5wr.gif\",\"profile_banner_url\":\"https://pbs.twimg.com/profile_banners/52524273/1458781338\",\"locationFix\":\"loja, ecuador\",\"profile_background_image_url\":\"http://pbs.twimg.com/profile_background_images/621917954/qp6mwkq7jv0vcav3s5wr.gif\",\"screen_name\":\"Statick_ds\",\"lang\":\"es\",\"profile_background_tile\":true,\"favourites_count\":3808,\"name\":\"Diego Saavedra\",\"url\":\"http://www.chilalito.com\",\"created_at\":{\"$date\":\"2009-06-30T21:17:53.000Z\"},\"contributors_enabled\":false,\"time_zone\":\"Quito\",\"descriptionFix\":\" creador de @aprende_libre, presidente de @chilalitoec, mediador, geek, bofh, gnu/linux user, python developer, aprendiz de hacker, emprendedor\",\"profile_sidebar_border_color\":\"FFFFFF\",\"default_profile\":false,\"is_translator\":false,\"listed_count\":259},\"geo\":{\"type\":\"Point\",\"coordinates\":[-3.99452971,-79.20304415]},\"possibly_sensitive\":false,\"source\":\"\\u003ca href=\\\"http://foursquare.com\\\" rel=\\\"nofollow\\\"\\u003eFoursquare\\u003c/a\\u003e\",\"lang\":\"es\",\"created_at\":{\"$date\":\"2017-03-06T11:57:00.000Z\"},\"filter_level\":\"low\",\"place\":{\"full_name\":\"Loja, Ecuador\",\"url\":\"https://api.twitter.com/1.1/geo/id/01da0f365a77a199.json\",\"country\":\"Ecuador\",\"place_type\":\"city\",\"bounding_box\":{\"type\":\"Polygon\",\"coordinates\":[[[-79.546384,-4.510835],[-79.546384,-3.672156],[-79.100275,-3.672156],[-79.100275,-4.510835]]],\"typeFix\":\"polygon\"},\"country_code\":\"EC\",\"attributes\":{},\"id\":\"01da0f365a77a199\",\"name\":\"Loja\"},\"timezone_info\":{\"timezone\":\"America/Guayaquil\",\"obtained_from\":\"coordinates\",\"dif_hours_UTC\":-5.0,\"DST\":false}}\n",
      "\n"
     ]
    }
   ],
   "source": [
    "data = open('tweets1.json')\n",
    "print type(data)\n",
    "print type(data.next())\n",
    "data.seek(0)\n",
    "print data.next()"
   ]
  },
  {
   "cell_type": "code",
   "execution_count": 3,
   "metadata": {
    "collapsed": false
   },
   "outputs": [
    {
     "data": {
      "text/html": [
       "<div>\n",
       "<table border=\"1\" class=\"dataframe\">\n",
       "  <thead>\n",
       "    <tr style=\"text-align: right;\">\n",
       "      <th></th>\n",
       "      <th>_id</th>\n",
       "      <th>coordinates</th>\n",
       "      <th>created_at</th>\n",
       "      <th>created_at_localtime</th>\n",
       "      <th>display_text_range</th>\n",
       "      <th>entities</th>\n",
       "      <th>extended_entities</th>\n",
       "      <th>extended_tweet</th>\n",
       "      <th>favorite_count</th>\n",
       "      <th>favorited</th>\n",
       "      <th>...</th>\n",
       "      <th>retweet_count</th>\n",
       "      <th>retweeted</th>\n",
       "      <th>source</th>\n",
       "      <th>sourceFix</th>\n",
       "      <th>text</th>\n",
       "      <th>textFix</th>\n",
       "      <th>timestamp_ms</th>\n",
       "      <th>timezone_info</th>\n",
       "      <th>truncated</th>\n",
       "      <th>user</th>\n",
       "    </tr>\n",
       "  </thead>\n",
       "  <tbody>\n",
       "    <tr>\n",
       "      <th>0</th>\n",
       "      <td>838720064958443520</td>\n",
       "      <td>{u'type': u'Point', u'coordinates': [-79.20304...</td>\n",
       "      <td>{u'$date': u'2017-03-06T11:57:00.000Z'}</td>\n",
       "      <td>{u'$date': u'2017-03-06T06:57:00.000Z'}</td>\n",
       "      <td>NaN</td>\n",
       "      <td>{u'user_mentions': [], u'symbols': [], u'hasht...</td>\n",
       "      <td>NaN</td>\n",
       "      <td>NaN</td>\n",
       "      <td>0</td>\n",
       "      <td>False</td>\n",
       "      <td>...</td>\n",
       "      <td>0</td>\n",
       "      <td>False</td>\n",
       "      <td>&lt;a href=\"http://foursquare.com\" rel=\"nofollow\"...</td>\n",
       "      <td>&lt;a href=\"http://foursquare.com\" rel=\"nofollow\"...</td>\n",
       "      <td>Excelente semana de labores a tod@s (@ Institu...</td>\n",
       "      <td>excelente semana de labores a tod@s (@ institu...</td>\n",
       "      <td>1488801420808</td>\n",
       "      <td>{u'timezone': u'America/Guayaquil', u'obtained...</td>\n",
       "      <td>False</td>\n",
       "      <td>{u'profile_use_background_image': True, u'cont...</td>\n",
       "    </tr>\n",
       "    <tr>\n",
       "      <th>1</th>\n",
       "      <td>838720176581447681</td>\n",
       "      <td>{u'type': u'Point', u'coordinates': [-79.5333,...</td>\n",
       "      <td>{u'$date': u'2017-03-06T11:57:27.000Z'}</td>\n",
       "      <td>{u'$date': u'2017-03-06T06:57:27.000Z'}</td>\n",
       "      <td>NaN</td>\n",
       "      <td>{u'user_mentions': [], u'symbols': [], u'hasht...</td>\n",
       "      <td>NaN</td>\n",
       "      <td>NaN</td>\n",
       "      <td>0</td>\n",
       "      <td>False</td>\n",
       "      <td>...</td>\n",
       "      <td>0</td>\n",
       "      <td>False</td>\n",
       "      <td>&lt;a href=\"http://instagram.com\" rel=\"nofollow\"&gt;...</td>\n",
       "      <td>&lt;a href=\"http://instagram.com\" rel=\"nofollow\"&gt;...</td>\n",
       "      <td>Un dia me dije...ya basta de lo mismo...nunca ...</td>\n",
       "      <td>un dia me dije...ya basta de lo mismo...nunca ...</td>\n",
       "      <td>1488801447421</td>\n",
       "      <td>{u'timezone': u'America/Guayaquil', u'obtained...</td>\n",
       "      <td>False</td>\n",
       "      <td>{u'profile_use_background_image': True, u'cont...</td>\n",
       "    </tr>\n",
       "    <tr>\n",
       "      <th>2</th>\n",
       "      <td>838720534225510404</td>\n",
       "      <td>{u'type': u'Point', u'coordinates': [-78.5833,...</td>\n",
       "      <td>{u'$date': u'2017-03-06T11:58:52.000Z'}</td>\n",
       "      <td>{u'$date': u'2017-03-06T06:58:52.000Z'}</td>\n",
       "      <td>NaN</td>\n",
       "      <td>{u'user_mentions': [], u'symbols': [], u'hasht...</td>\n",
       "      <td>NaN</td>\n",
       "      <td>NaN</td>\n",
       "      <td>0</td>\n",
       "      <td>False</td>\n",
       "      <td>...</td>\n",
       "      <td>0</td>\n",
       "      <td>False</td>\n",
       "      <td>&lt;a href=\"http://instagram.com\" rel=\"nofollow\"&gt;...</td>\n",
       "      <td>&lt;a href=\"http://instagram.com\" rel=\"nofollow\"&gt;...</td>\n",
       "      <td>#PuraRealidad #InicioDeSemana #pensamientodeld...</td>\n",
       "      <td>#purarealidad #iniciodesemana #pensamientodeld...</td>\n",
       "      <td>1488801532690</td>\n",
       "      <td>{u'timezone': u'America/Guayaquil', u'obtained...</td>\n",
       "      <td>False</td>\n",
       "      <td>{u'profile_use_background_image': True, u'defa...</td>\n",
       "    </tr>\n",
       "    <tr>\n",
       "      <th>3</th>\n",
       "      <td>838720814002339840</td>\n",
       "      <td>{u'type': u'Point', u'coordinates': [-78.73340...</td>\n",
       "      <td>{u'$date': u'2017-03-06T11:59:59.000Z'}</td>\n",
       "      <td>{u'$date': u'2017-03-06T11:59:59.000Z'}</td>\n",
       "      <td>NaN</td>\n",
       "      <td>{u'user_mentions': [], u'symbols': [], u'hasht...</td>\n",
       "      <td>NaN</td>\n",
       "      <td>NaN</td>\n",
       "      <td>0</td>\n",
       "      <td>False</td>\n",
       "      <td>...</td>\n",
       "      <td>0</td>\n",
       "      <td>False</td>\n",
       "      <td>&lt;a href=\"http://instagram.com\" rel=\"nofollow\"&gt;...</td>\n",
       "      <td>&lt;a href=\"http://instagram.com\" rel=\"nofollow\"&gt;...</td>\n",
       "      <td>Just posted a photo @ Playa Del Morro Tumaco N...</td>\n",
       "      <td>just posted a photo @ playa del morro tumaco n...</td>\n",
       "      <td>1488801599394</td>\n",
       "      <td>{u'timezone': u'UTC', u'obtained_from': u'plac...</td>\n",
       "      <td>False</td>\n",
       "      <td>{u'profile_use_background_image': True, u'defa...</td>\n",
       "    </tr>\n",
       "    <tr>\n",
       "      <th>4</th>\n",
       "      <td>838720828053270528</td>\n",
       "      <td>{u'type': u'Point', u'coordinates': [-77.15552...</td>\n",
       "      <td>{u'$date': u'2017-03-06T12:00:02.000Z'}</td>\n",
       "      <td>{u'$date': u'2017-03-06T07:00:02.000Z'}</td>\n",
       "      <td>NaN</td>\n",
       "      <td>{u'user_mentions': [], u'symbols': [], u'hasht...</td>\n",
       "      <td>NaN</td>\n",
       "      <td>NaN</td>\n",
       "      <td>0</td>\n",
       "      <td>False</td>\n",
       "      <td>...</td>\n",
       "      <td>0</td>\n",
       "      <td>False</td>\n",
       "      <td>&lt;a href=\"http://foursquare.com\" rel=\"nofollow\"...</td>\n",
       "      <td>&lt;a href=\"http://foursquare.com\" rel=\"nofollow\"...</td>\n",
       "      <td>I'm at Terpel El Encano https://t.co/RqCF2S7hWc</td>\n",
       "      <td>i'm at terpel el encano https://t.co/rqcf2s7hwc</td>\n",
       "      <td>1488801602744</td>\n",
       "      <td>{u'timezone': u'America/Bogota', u'obtained_fr...</td>\n",
       "      <td>False</td>\n",
       "      <td>{u'profile_use_background_image': True, u'defa...</td>\n",
       "    </tr>\n",
       "  </tbody>\n",
       "</table>\n",
       "<p>5 rows × 36 columns</p>\n",
       "</div>"
      ],
      "text/plain": [
       "                  _id                                        coordinates  \\\n",
       "0  838720064958443520  {u'type': u'Point', u'coordinates': [-79.20304...   \n",
       "1  838720176581447681  {u'type': u'Point', u'coordinates': [-79.5333,...   \n",
       "2  838720534225510404  {u'type': u'Point', u'coordinates': [-78.5833,...   \n",
       "3  838720814002339840  {u'type': u'Point', u'coordinates': [-78.73340...   \n",
       "4  838720828053270528  {u'type': u'Point', u'coordinates': [-77.15552...   \n",
       "\n",
       "                                created_at  \\\n",
       "0  {u'$date': u'2017-03-06T11:57:00.000Z'}   \n",
       "1  {u'$date': u'2017-03-06T11:57:27.000Z'}   \n",
       "2  {u'$date': u'2017-03-06T11:58:52.000Z'}   \n",
       "3  {u'$date': u'2017-03-06T11:59:59.000Z'}   \n",
       "4  {u'$date': u'2017-03-06T12:00:02.000Z'}   \n",
       "\n",
       "                      created_at_localtime display_text_range  \\\n",
       "0  {u'$date': u'2017-03-06T06:57:00.000Z'}                NaN   \n",
       "1  {u'$date': u'2017-03-06T06:57:27.000Z'}                NaN   \n",
       "2  {u'$date': u'2017-03-06T06:58:52.000Z'}                NaN   \n",
       "3  {u'$date': u'2017-03-06T11:59:59.000Z'}                NaN   \n",
       "4  {u'$date': u'2017-03-06T07:00:02.000Z'}                NaN   \n",
       "\n",
       "                                            entities extended_entities  \\\n",
       "0  {u'user_mentions': [], u'symbols': [], u'hasht...               NaN   \n",
       "1  {u'user_mentions': [], u'symbols': [], u'hasht...               NaN   \n",
       "2  {u'user_mentions': [], u'symbols': [], u'hasht...               NaN   \n",
       "3  {u'user_mentions': [], u'symbols': [], u'hasht...               NaN   \n",
       "4  {u'user_mentions': [], u'symbols': [], u'hasht...               NaN   \n",
       "\n",
       "  extended_tweet  favorite_count favorited  \\\n",
       "0            NaN               0     False   \n",
       "1            NaN               0     False   \n",
       "2            NaN               0     False   \n",
       "3            NaN               0     False   \n",
       "4            NaN               0     False   \n",
       "\n",
       "                         ...                         retweet_count retweeted  \\\n",
       "0                        ...                                     0     False   \n",
       "1                        ...                                     0     False   \n",
       "2                        ...                                     0     False   \n",
       "3                        ...                                     0     False   \n",
       "4                        ...                                     0     False   \n",
       "\n",
       "                                              source  \\\n",
       "0  <a href=\"http://foursquare.com\" rel=\"nofollow\"...   \n",
       "1  <a href=\"http://instagram.com\" rel=\"nofollow\">...   \n",
       "2  <a href=\"http://instagram.com\" rel=\"nofollow\">...   \n",
       "3  <a href=\"http://instagram.com\" rel=\"nofollow\">...   \n",
       "4  <a href=\"http://foursquare.com\" rel=\"nofollow\"...   \n",
       "\n",
       "                                           sourceFix  \\\n",
       "0  <a href=\"http://foursquare.com\" rel=\"nofollow\"...   \n",
       "1  <a href=\"http://instagram.com\" rel=\"nofollow\">...   \n",
       "2  <a href=\"http://instagram.com\" rel=\"nofollow\">...   \n",
       "3  <a href=\"http://instagram.com\" rel=\"nofollow\">...   \n",
       "4  <a href=\"http://foursquare.com\" rel=\"nofollow\"...   \n",
       "\n",
       "                                                text  \\\n",
       "0  Excelente semana de labores a tod@s (@ Institu...   \n",
       "1  Un dia me dije...ya basta de lo mismo...nunca ...   \n",
       "2  #PuraRealidad #InicioDeSemana #pensamientodeld...   \n",
       "3  Just posted a photo @ Playa Del Morro Tumaco N...   \n",
       "4    I'm at Terpel El Encano https://t.co/RqCF2S7hWc   \n",
       "\n",
       "                                             textFix   timestamp_ms  \\\n",
       "0  excelente semana de labores a tod@s (@ institu...  1488801420808   \n",
       "1  un dia me dije...ya basta de lo mismo...nunca ...  1488801447421   \n",
       "2  #purarealidad #iniciodesemana #pensamientodeld...  1488801532690   \n",
       "3  just posted a photo @ playa del morro tumaco n...  1488801599394   \n",
       "4    i'm at terpel el encano https://t.co/rqcf2s7hwc  1488801602744   \n",
       "\n",
       "                                       timezone_info truncated  \\\n",
       "0  {u'timezone': u'America/Guayaquil', u'obtained...     False   \n",
       "1  {u'timezone': u'America/Guayaquil', u'obtained...     False   \n",
       "2  {u'timezone': u'America/Guayaquil', u'obtained...     False   \n",
       "3  {u'timezone': u'UTC', u'obtained_from': u'plac...     False   \n",
       "4  {u'timezone': u'America/Bogota', u'obtained_fr...     False   \n",
       "\n",
       "                                                user  \n",
       "0  {u'profile_use_background_image': True, u'cont...  \n",
       "1  {u'profile_use_background_image': True, u'cont...  \n",
       "2  {u'profile_use_background_image': True, u'defa...  \n",
       "3  {u'profile_use_background_image': True, u'defa...  \n",
       "4  {u'profile_use_background_image': True, u'defa...  \n",
       "\n",
       "[5 rows x 36 columns]"
      ]
     },
     "execution_count": 3,
     "metadata": {},
     "output_type": "execute_result"
    }
   ],
   "source": [
    "data.seek(0)\n",
    "l=[json.loads(l) for l in data]\n",
    "df=pd.DataFrame(l)\n",
    "df.head(5)"
   ]
  },
  {
   "cell_type": "code",
   "execution_count": 4,
   "metadata": {
    "collapsed": false
   },
   "outputs": [
    {
     "data": {
      "text/plain": [
       "(4546, 36)"
      ]
     },
     "execution_count": 4,
     "metadata": {},
     "output_type": "execute_result"
    }
   ],
   "source": [
    "df.shape"
   ]
  },
  {
   "cell_type": "code",
   "execution_count": 5,
   "metadata": {
    "collapsed": false
   },
   "outputs": [
    {
     "data": {
      "text/html": [
       "<div>\n",
       "<table border=\"1\" class=\"dataframe\">\n",
       "  <thead>\n",
       "    <tr style=\"text-align: right;\">\n",
       "      <th></th>\n",
       "      <th>_id</th>\n",
       "      <th>coordinates</th>\n",
       "      <th>created_at</th>\n",
       "      <th>created_at_localtime</th>\n",
       "      <th>display_text_range</th>\n",
       "      <th>entities</th>\n",
       "      <th>extended_entities</th>\n",
       "      <th>extended_tweet</th>\n",
       "      <th>favorite_count</th>\n",
       "      <th>favorited</th>\n",
       "      <th>filter_level</th>\n",
       "      <th>geo</th>\n",
       "      <th>id</th>\n",
       "      <th>in_reply_to_screen_name</th>\n",
       "      <th>in_reply_to_screen_nameFix</th>\n",
       "      <th>in_reply_to_status_id</th>\n",
       "      <th>in_reply_to_status_id_str</th>\n",
       "      <th>in_reply_to_user_id</th>\n",
       "      <th>in_reply_to_user_id_str</th>\n",
       "      <th>is_quote_status</th>\n",
       "      <th>lang</th>\n",
       "      <th>place</th>\n",
       "      <th>possibly_sensitive</th>\n",
       "      <th>quoted_status</th>\n",
       "      <th>quoted_status_id</th>\n",
       "      <th>quoted_status_id_str</th>\n",
       "      <th>retweet_count</th>\n",
       "      <th>retweeted</th>\n",
       "      <th>source</th>\n",
       "      <th>sourceFix</th>\n",
       "      <th>text</th>\n",
       "      <th>textFix</th>\n",
       "      <th>timestamp_ms</th>\n",
       "      <th>timezone_info</th>\n",
       "      <th>truncated</th>\n",
       "      <th>user</th>\n",
       "    </tr>\n",
       "  </thead>\n",
       "  <tbody>\n",
       "    <tr>\n",
       "      <th>0</th>\n",
       "      <td>838720064958443520</td>\n",
       "      <td>{u'type': u'Point', u'coordinates': [-79.20304...</td>\n",
       "      <td>{u'$date': u'2017-03-06T11:57:00.000Z'}</td>\n",
       "      <td>{u'$date': u'2017-03-06T06:57:00.000Z'}</td>\n",
       "      <td>NaN</td>\n",
       "      <td>{u'user_mentions': [], u'symbols': [], u'hasht...</td>\n",
       "      <td>NaN</td>\n",
       "      <td>NaN</td>\n",
       "      <td>0</td>\n",
       "      <td>False</td>\n",
       "      <td>low</td>\n",
       "      <td>{u'type': u'Point', u'coordinates': [-3.994529...</td>\n",
       "      <td>{u'$numberLong': u'838720064958443520'}</td>\n",
       "      <td>NaN</td>\n",
       "      <td>NaN</td>\n",
       "      <td>NaN</td>\n",
       "      <td>NaN</td>\n",
       "      <td>NaN</td>\n",
       "      <td>NaN</td>\n",
       "      <td>False</td>\n",
       "      <td>es</td>\n",
       "      <td>{u'country_code': u'EC', u'url': u'https://api...</td>\n",
       "      <td>False</td>\n",
       "      <td>NaN</td>\n",
       "      <td>NaN</td>\n",
       "      <td>NaN</td>\n",
       "      <td>0</td>\n",
       "      <td>False</td>\n",
       "      <td>&lt;a href=\"http://foursquare.com\" rel=\"nofollow\"...</td>\n",
       "      <td>&lt;a href=\"http://foursquare.com\" rel=\"nofollow\"...</td>\n",
       "      <td>Excelente semana de labores a tod@s (@ Institu...</td>\n",
       "      <td>excelente semana de labores a tod@s (@ institu...</td>\n",
       "      <td>1488801420808</td>\n",
       "      <td>{u'timezone': u'America/Guayaquil', u'obtained...</td>\n",
       "      <td>False</td>\n",
       "      <td>{u'profile_use_background_image': True, u'cont...</td>\n",
       "    </tr>\n",
       "    <tr>\n",
       "      <th>1</th>\n",
       "      <td>838720176581447681</td>\n",
       "      <td>{u'type': u'Point', u'coordinates': [-79.5333,...</td>\n",
       "      <td>{u'$date': u'2017-03-06T11:57:27.000Z'}</td>\n",
       "      <td>{u'$date': u'2017-03-06T06:57:27.000Z'}</td>\n",
       "      <td>NaN</td>\n",
       "      <td>{u'user_mentions': [], u'symbols': [], u'hasht...</td>\n",
       "      <td>NaN</td>\n",
       "      <td>NaN</td>\n",
       "      <td>0</td>\n",
       "      <td>False</td>\n",
       "      <td>low</td>\n",
       "      <td>{u'type': u'Point', u'coordinates': [-2.06667,...</td>\n",
       "      <td>{u'$numberLong': u'838720176581447681'}</td>\n",
       "      <td>NaN</td>\n",
       "      <td>NaN</td>\n",
       "      <td>NaN</td>\n",
       "      <td>NaN</td>\n",
       "      <td>NaN</td>\n",
       "      <td>NaN</td>\n",
       "      <td>False</td>\n",
       "      <td>es</td>\n",
       "      <td>{u'country_code': u'EC', u'url': u'https://api...</td>\n",
       "      <td>False</td>\n",
       "      <td>NaN</td>\n",
       "      <td>NaN</td>\n",
       "      <td>NaN</td>\n",
       "      <td>0</td>\n",
       "      <td>False</td>\n",
       "      <td>&lt;a href=\"http://instagram.com\" rel=\"nofollow\"&gt;...</td>\n",
       "      <td>&lt;a href=\"http://instagram.com\" rel=\"nofollow\"&gt;...</td>\n",
       "      <td>Un dia me dije...ya basta de lo mismo...nunca ...</td>\n",
       "      <td>un dia me dije...ya basta de lo mismo...nunca ...</td>\n",
       "      <td>1488801447421</td>\n",
       "      <td>{u'timezone': u'America/Guayaquil', u'obtained...</td>\n",
       "      <td>False</td>\n",
       "      <td>{u'profile_use_background_image': True, u'cont...</td>\n",
       "    </tr>\n",
       "    <tr>\n",
       "      <th>2</th>\n",
       "      <td>838720534225510404</td>\n",
       "      <td>{u'type': u'Point', u'coordinates': [-78.5833,...</td>\n",
       "      <td>{u'$date': u'2017-03-06T11:58:52.000Z'}</td>\n",
       "      <td>{u'$date': u'2017-03-06T06:58:52.000Z'}</td>\n",
       "      <td>NaN</td>\n",
       "      <td>{u'user_mentions': [], u'symbols': [], u'hasht...</td>\n",
       "      <td>NaN</td>\n",
       "      <td>NaN</td>\n",
       "      <td>0</td>\n",
       "      <td>False</td>\n",
       "      <td>low</td>\n",
       "      <td>{u'type': u'Point', u'coordinates': [-0.25, -7...</td>\n",
       "      <td>{u'$numberLong': u'838720534225510404'}</td>\n",
       "      <td>NaN</td>\n",
       "      <td>NaN</td>\n",
       "      <td>NaN</td>\n",
       "      <td>NaN</td>\n",
       "      <td>NaN</td>\n",
       "      <td>NaN</td>\n",
       "      <td>False</td>\n",
       "      <td>und</td>\n",
       "      <td>{u'country_code': u'EC', u'url': u'https://api...</td>\n",
       "      <td>False</td>\n",
       "      <td>NaN</td>\n",
       "      <td>NaN</td>\n",
       "      <td>NaN</td>\n",
       "      <td>0</td>\n",
       "      <td>False</td>\n",
       "      <td>&lt;a href=\"http://instagram.com\" rel=\"nofollow\"&gt;...</td>\n",
       "      <td>&lt;a href=\"http://instagram.com\" rel=\"nofollow\"&gt;...</td>\n",
       "      <td>#PuraRealidad #InicioDeSemana #pensamientodeld...</td>\n",
       "      <td>#purarealidad #iniciodesemana #pensamientodeld...</td>\n",
       "      <td>1488801532690</td>\n",
       "      <td>{u'timezone': u'America/Guayaquil', u'obtained...</td>\n",
       "      <td>False</td>\n",
       "      <td>{u'profile_use_background_image': True, u'defa...</td>\n",
       "    </tr>\n",
       "    <tr>\n",
       "      <th>3</th>\n",
       "      <td>838720814002339840</td>\n",
       "      <td>{u'type': u'Point', u'coordinates': [-78.73340...</td>\n",
       "      <td>{u'$date': u'2017-03-06T11:59:59.000Z'}</td>\n",
       "      <td>{u'$date': u'2017-03-06T11:59:59.000Z'}</td>\n",
       "      <td>NaN</td>\n",
       "      <td>{u'user_mentions': [], u'symbols': [], u'hasht...</td>\n",
       "      <td>NaN</td>\n",
       "      <td>NaN</td>\n",
       "      <td>0</td>\n",
       "      <td>False</td>\n",
       "      <td>low</td>\n",
       "      <td>{u'type': u'Point', u'coordinates': [1.8292435...</td>\n",
       "      <td>{u'$numberLong': u'838720814002339840'}</td>\n",
       "      <td>NaN</td>\n",
       "      <td>NaN</td>\n",
       "      <td>NaN</td>\n",
       "      <td>NaN</td>\n",
       "      <td>NaN</td>\n",
       "      <td>NaN</td>\n",
       "      <td>False</td>\n",
       "      <td>es</td>\n",
       "      <td>{u'country_code': u'CO', u'url': u'https://api...</td>\n",
       "      <td>False</td>\n",
       "      <td>NaN</td>\n",
       "      <td>NaN</td>\n",
       "      <td>NaN</td>\n",
       "      <td>0</td>\n",
       "      <td>False</td>\n",
       "      <td>&lt;a href=\"http://instagram.com\" rel=\"nofollow\"&gt;...</td>\n",
       "      <td>&lt;a href=\"http://instagram.com\" rel=\"nofollow\"&gt;...</td>\n",
       "      <td>Just posted a photo @ Playa Del Morro Tumaco N...</td>\n",
       "      <td>just posted a photo @ playa del morro tumaco n...</td>\n",
       "      <td>1488801599394</td>\n",
       "      <td>{u'timezone': u'UTC', u'obtained_from': u'plac...</td>\n",
       "      <td>False</td>\n",
       "      <td>{u'profile_use_background_image': True, u'defa...</td>\n",
       "    </tr>\n",
       "    <tr>\n",
       "      <th>4</th>\n",
       "      <td>838720828053270528</td>\n",
       "      <td>{u'type': u'Point', u'coordinates': [-77.15552...</td>\n",
       "      <td>{u'$date': u'2017-03-06T12:00:02.000Z'}</td>\n",
       "      <td>{u'$date': u'2017-03-06T07:00:02.000Z'}</td>\n",
       "      <td>NaN</td>\n",
       "      <td>{u'user_mentions': [], u'symbols': [], u'hasht...</td>\n",
       "      <td>NaN</td>\n",
       "      <td>NaN</td>\n",
       "      <td>0</td>\n",
       "      <td>False</td>\n",
       "      <td>low</td>\n",
       "      <td>{u'type': u'Point', u'coordinates': [1.160964,...</td>\n",
       "      <td>{u'$numberLong': u'838720828053270528'}</td>\n",
       "      <td>NaN</td>\n",
       "      <td>NaN</td>\n",
       "      <td>NaN</td>\n",
       "      <td>NaN</td>\n",
       "      <td>NaN</td>\n",
       "      <td>NaN</td>\n",
       "      <td>False</td>\n",
       "      <td>und</td>\n",
       "      <td>{u'country_code': u'CO', u'url': u'https://api...</td>\n",
       "      <td>False</td>\n",
       "      <td>NaN</td>\n",
       "      <td>NaN</td>\n",
       "      <td>NaN</td>\n",
       "      <td>0</td>\n",
       "      <td>False</td>\n",
       "      <td>&lt;a href=\"http://foursquare.com\" rel=\"nofollow\"...</td>\n",
       "      <td>&lt;a href=\"http://foursquare.com\" rel=\"nofollow\"...</td>\n",
       "      <td>I'm at Terpel El Encano https://t.co/RqCF2S7hWc</td>\n",
       "      <td>i'm at terpel el encano https://t.co/rqcf2s7hwc</td>\n",
       "      <td>1488801602744</td>\n",
       "      <td>{u'timezone': u'America/Bogota', u'obtained_fr...</td>\n",
       "      <td>False</td>\n",
       "      <td>{u'profile_use_background_image': True, u'defa...</td>\n",
       "    </tr>\n",
       "  </tbody>\n",
       "</table>\n",
       "</div>"
      ],
      "text/plain": [
       "                  _id                                        coordinates  \\\n",
       "0  838720064958443520  {u'type': u'Point', u'coordinates': [-79.20304...   \n",
       "1  838720176581447681  {u'type': u'Point', u'coordinates': [-79.5333,...   \n",
       "2  838720534225510404  {u'type': u'Point', u'coordinates': [-78.5833,...   \n",
       "3  838720814002339840  {u'type': u'Point', u'coordinates': [-78.73340...   \n",
       "4  838720828053270528  {u'type': u'Point', u'coordinates': [-77.15552...   \n",
       "\n",
       "                                created_at  \\\n",
       "0  {u'$date': u'2017-03-06T11:57:00.000Z'}   \n",
       "1  {u'$date': u'2017-03-06T11:57:27.000Z'}   \n",
       "2  {u'$date': u'2017-03-06T11:58:52.000Z'}   \n",
       "3  {u'$date': u'2017-03-06T11:59:59.000Z'}   \n",
       "4  {u'$date': u'2017-03-06T12:00:02.000Z'}   \n",
       "\n",
       "                      created_at_localtime display_text_range  \\\n",
       "0  {u'$date': u'2017-03-06T06:57:00.000Z'}                NaN   \n",
       "1  {u'$date': u'2017-03-06T06:57:27.000Z'}                NaN   \n",
       "2  {u'$date': u'2017-03-06T06:58:52.000Z'}                NaN   \n",
       "3  {u'$date': u'2017-03-06T11:59:59.000Z'}                NaN   \n",
       "4  {u'$date': u'2017-03-06T07:00:02.000Z'}                NaN   \n",
       "\n",
       "                                            entities extended_entities  \\\n",
       "0  {u'user_mentions': [], u'symbols': [], u'hasht...               NaN   \n",
       "1  {u'user_mentions': [], u'symbols': [], u'hasht...               NaN   \n",
       "2  {u'user_mentions': [], u'symbols': [], u'hasht...               NaN   \n",
       "3  {u'user_mentions': [], u'symbols': [], u'hasht...               NaN   \n",
       "4  {u'user_mentions': [], u'symbols': [], u'hasht...               NaN   \n",
       "\n",
       "  extended_tweet  favorite_count favorited filter_level  \\\n",
       "0            NaN               0     False          low   \n",
       "1            NaN               0     False          low   \n",
       "2            NaN               0     False          low   \n",
       "3            NaN               0     False          low   \n",
       "4            NaN               0     False          low   \n",
       "\n",
       "                                                 geo  \\\n",
       "0  {u'type': u'Point', u'coordinates': [-3.994529...   \n",
       "1  {u'type': u'Point', u'coordinates': [-2.06667,...   \n",
       "2  {u'type': u'Point', u'coordinates': [-0.25, -7...   \n",
       "3  {u'type': u'Point', u'coordinates': [1.8292435...   \n",
       "4  {u'type': u'Point', u'coordinates': [1.160964,...   \n",
       "\n",
       "                                        id in_reply_to_screen_name  \\\n",
       "0  {u'$numberLong': u'838720064958443520'}                     NaN   \n",
       "1  {u'$numberLong': u'838720176581447681'}                     NaN   \n",
       "2  {u'$numberLong': u'838720534225510404'}                     NaN   \n",
       "3  {u'$numberLong': u'838720814002339840'}                     NaN   \n",
       "4  {u'$numberLong': u'838720828053270528'}                     NaN   \n",
       "\n",
       "  in_reply_to_screen_nameFix in_reply_to_status_id in_reply_to_status_id_str  \\\n",
       "0                        NaN                   NaN                       NaN   \n",
       "1                        NaN                   NaN                       NaN   \n",
       "2                        NaN                   NaN                       NaN   \n",
       "3                        NaN                   NaN                       NaN   \n",
       "4                        NaN                   NaN                       NaN   \n",
       "\n",
       "  in_reply_to_user_id in_reply_to_user_id_str is_quote_status lang  \\\n",
       "0                 NaN                     NaN           False   es   \n",
       "1                 NaN                     NaN           False   es   \n",
       "2                 NaN                     NaN           False  und   \n",
       "3                 NaN                     NaN           False   es   \n",
       "4                 NaN                     NaN           False  und   \n",
       "\n",
       "                                               place possibly_sensitive  \\\n",
       "0  {u'country_code': u'EC', u'url': u'https://api...              False   \n",
       "1  {u'country_code': u'EC', u'url': u'https://api...              False   \n",
       "2  {u'country_code': u'EC', u'url': u'https://api...              False   \n",
       "3  {u'country_code': u'CO', u'url': u'https://api...              False   \n",
       "4  {u'country_code': u'CO', u'url': u'https://api...              False   \n",
       "\n",
       "  quoted_status quoted_status_id quoted_status_id_str  retweet_count  \\\n",
       "0           NaN              NaN                  NaN              0   \n",
       "1           NaN              NaN                  NaN              0   \n",
       "2           NaN              NaN                  NaN              0   \n",
       "3           NaN              NaN                  NaN              0   \n",
       "4           NaN              NaN                  NaN              0   \n",
       "\n",
       "  retweeted                                             source  \\\n",
       "0     False  <a href=\"http://foursquare.com\" rel=\"nofollow\"...   \n",
       "1     False  <a href=\"http://instagram.com\" rel=\"nofollow\">...   \n",
       "2     False  <a href=\"http://instagram.com\" rel=\"nofollow\">...   \n",
       "3     False  <a href=\"http://instagram.com\" rel=\"nofollow\">...   \n",
       "4     False  <a href=\"http://foursquare.com\" rel=\"nofollow\"...   \n",
       "\n",
       "                                           sourceFix  \\\n",
       "0  <a href=\"http://foursquare.com\" rel=\"nofollow\"...   \n",
       "1  <a href=\"http://instagram.com\" rel=\"nofollow\">...   \n",
       "2  <a href=\"http://instagram.com\" rel=\"nofollow\">...   \n",
       "3  <a href=\"http://instagram.com\" rel=\"nofollow\">...   \n",
       "4  <a href=\"http://foursquare.com\" rel=\"nofollow\"...   \n",
       "\n",
       "                                                text  \\\n",
       "0  Excelente semana de labores a tod@s (@ Institu...   \n",
       "1  Un dia me dije...ya basta de lo mismo...nunca ...   \n",
       "2  #PuraRealidad #InicioDeSemana #pensamientodeld...   \n",
       "3  Just posted a photo @ Playa Del Morro Tumaco N...   \n",
       "4    I'm at Terpel El Encano https://t.co/RqCF2S7hWc   \n",
       "\n",
       "                                             textFix   timestamp_ms  \\\n",
       "0  excelente semana de labores a tod@s (@ institu...  1488801420808   \n",
       "1  un dia me dije...ya basta de lo mismo...nunca ...  1488801447421   \n",
       "2  #purarealidad #iniciodesemana #pensamientodeld...  1488801532690   \n",
       "3  just posted a photo @ playa del morro tumaco n...  1488801599394   \n",
       "4    i'm at terpel el encano https://t.co/rqcf2s7hwc  1488801602744   \n",
       "\n",
       "                                       timezone_info truncated  \\\n",
       "0  {u'timezone': u'America/Guayaquil', u'obtained...     False   \n",
       "1  {u'timezone': u'America/Guayaquil', u'obtained...     False   \n",
       "2  {u'timezone': u'America/Guayaquil', u'obtained...     False   \n",
       "3  {u'timezone': u'UTC', u'obtained_from': u'plac...     False   \n",
       "4  {u'timezone': u'America/Bogota', u'obtained_fr...     False   \n",
       "\n",
       "                                                user  \n",
       "0  {u'profile_use_background_image': True, u'cont...  \n",
       "1  {u'profile_use_background_image': True, u'cont...  \n",
       "2  {u'profile_use_background_image': True, u'defa...  \n",
       "3  {u'profile_use_background_image': True, u'defa...  \n",
       "4  {u'profile_use_background_image': True, u'defa...  "
      ]
     },
     "execution_count": 5,
     "metadata": {},
     "output_type": "execute_result"
    }
   ],
   "source": [
    "pd.set_option(\"display.max_columns\", 50)\n",
    "df.head()"
   ]
  },
  {
   "cell_type": "code",
   "execution_count": 7,
   "metadata": {
    "collapsed": false
   },
   "outputs": [
    {
     "data": {
      "text/plain": [
       "0    {u'country_code': u'EC', u'url': u'https://api...\n",
       "1    {u'country_code': u'EC', u'url': u'https://api...\n",
       "2    {u'country_code': u'EC', u'url': u'https://api...\n",
       "3    {u'country_code': u'CO', u'url': u'https://api...\n",
       "4    {u'country_code': u'CO', u'url': u'https://api...\n",
       "Name: place, dtype: object"
      ]
     },
     "execution_count": 7,
     "metadata": {},
     "output_type": "execute_result"
    }
   ],
   "source": [
    "df[\"place\"].head()"
   ]
  },
  {
   "cell_type": "code",
   "execution_count": 11,
   "metadata": {
    "collapsed": false
   },
   "outputs": [
    {
     "data": {
      "text/plain": [
       "191    {u'country_code': u'EC', u'url': u'https://api...\n",
       "Name: place, dtype: object"
      ]
     },
     "execution_count": 11,
     "metadata": {},
     "output_type": "execute_result"
    }
   ],
   "source": [
    "df[\"place\"].sample()"
   ]
  },
  {
   "cell_type": "code",
   "execution_count": 12,
   "metadata": {
    "collapsed": false
   },
   "outputs": [
    {
     "name": "stdout",
     "output_type": "stream",
     "text": [
      "361    {u'country_code': u'EC', u'url': u'https://api...\n",
      "Name: place, dtype: object\n"
     ]
    }
   ],
   "source": [
    "place1 = df[\"place\"].sample()\n",
    "print place1"
   ]
  },
  {
   "cell_type": "code",
   "execution_count": 19,
   "metadata": {
    "collapsed": false
   },
   "outputs": [
    {
     "data": {
      "text/plain": [
       "array([ {u'country_code': u'EC', u'url': u'https://api.twitter.com/1.1/geo/id/00189e3503ff4e54.json', u'country': u'Ecuador', u'place_type': u'city', u'bounding_box': {u'type': u'Polygon', u'typeFix': u'polygon', u'coordinates': [[[-79.548067, -0.700182], [-79.548067, 0.017886], [-78.746513, 0.017886], [-78.746513, -0.700182]]]}, u'full_name': u'Santo Domingo, Ecuador', u'attributes': {}, u'id': u'00189e3503ff4e54', u'name': u'Santo Domingo'}], dtype=object)"
      ]
     },
     "execution_count": 19,
     "metadata": {},
     "output_type": "execute_result"
    }
   ],
   "source": [
    "place1.get_values()"
   ]
  },
  {
   "cell_type": "code",
   "execution_count": 29,
   "metadata": {
    "collapsed": false
   },
   "outputs": [
    {
     "name": "stdout",
     "output_type": "stream",
     "text": [
      "{u'country_code': u'EC', u'url': u'https://api.twitter.com/1.1/geo/id/00189e3503ff4e54.json', u'country': u'Ecuador', u'place_type': u'city', u'bounding_box': {u'type': u'Polygon', u'typeFix': u'polygon', u'coordinates': [[[-79.548067, -0.700182], [-79.548067, 0.017886], [-78.746513, 0.017886], [-78.746513, -0.700182]]]}, u'full_name': u'Santo Domingo, Ecuador', u'attributes': {}, u'id': u'00189e3503ff4e54', u'name': u'Santo Domingo'}\n"
     ]
    }
   ],
   "source": [
    "for value in place1:\n",
    "    print value"
   ]
  },
  {
   "cell_type": "code",
   "execution_count": 26,
   "metadata": {
    "collapsed": false
   },
   "outputs": [
    {
     "data": {
      "text/plain": [
       "1"
      ]
     },
     "execution_count": 26,
     "metadata": {},
     "output_type": "execute_result"
    }
   ],
   "source": [
    "len(place1)"
   ]
  },
  {
   "cell_type": "code",
   "execution_count": 30,
   "metadata": {
    "collapsed": false
   },
   "outputs": [
    {
     "name": "stdout",
     "output_type": "stream",
     "text": [
      "Santo Domingo\n"
     ]
    }
   ],
   "source": [
    "for value in place1:\n",
    "    print value[\"name\"]"
   ]
  },
  {
   "cell_type": "code",
   "execution_count": 32,
   "metadata": {
    "collapsed": false
   },
   "outputs": [
    {
     "data": {
      "text/plain": [
       "u'Santo Domingo'"
      ]
     },
     "execution_count": 32,
     "metadata": {},
     "output_type": "execute_result"
    }
   ],
   "source": [
    "place1.get_values()[0][\"name\"]"
   ]
  },
  {
   "cell_type": "code",
   "execution_count": 33,
   "metadata": {
    "collapsed": false
   },
   "outputs": [
    {
     "data": {
      "text/plain": [
       "True"
      ]
     },
     "execution_count": 33,
     "metadata": {},
     "output_type": "execute_result"
    }
   ],
   "source": [
    "place1.get_values()[0][\"name\"] == \"Santo Domingo\""
   ]
  },
  {
   "cell_type": "code",
   "execution_count": 34,
   "metadata": {
    "collapsed": false
   },
   "outputs": [
    {
     "data": {
      "text/plain": [
       "False"
      ]
     },
     "execution_count": 34,
     "metadata": {},
     "output_type": "execute_result"
    }
   ],
   "source": [
    "df[\"place\"].get_values()[0][\"name\"] == \"Santo Domingo\""
   ]
  },
  {
   "cell_type": "code",
   "execution_count": 48,
   "metadata": {
    "collapsed": false
   },
   "outputs": [
    {
     "data": {
      "text/plain": [
       "419     {u'country_code': u'EC', u'url': u'https://api...\n",
       "2937    {u'country_code': u'EC', u'url': u'https://api...\n",
       "847     {u'country_code': u'EC', u'url': u'https://api...\n",
       "4009    {u'country_code': u'EC', u'url': u'https://api...\n",
       "1717    {u'country_code': u'EC', u'url': u'https://api...\n",
       "1046    {u'country_code': u'EC', u'url': u'https://api...\n",
       "621     {u'country_code': u'EC', u'url': u'https://api...\n",
       "2174    {u'country_code': u'EC', u'url': u'https://api...\n",
       "2013    {u'country_code': u'EC', u'url': u'https://api...\n",
       "638     {u'country_code': u'PE', u'url': u'https://api...\n",
       "Name: place, dtype: object"
      ]
     },
     "execution_count": 48,
     "metadata": {},
     "output_type": "execute_result"
    }
   ],
   "source": [
    "df[\"place\"].sample(10)"
   ]
  },
  {
   "cell_type": "code",
   "execution_count": 37,
   "metadata": {
    "collapsed": false
   },
   "outputs": [
    {
     "data": {
      "text/plain": [
       "pandas.core.series.Series"
      ]
     },
     "execution_count": 37,
     "metadata": {},
     "output_type": "execute_result"
    }
   ],
   "source": [
    "type(df[\"place\"])"
   ]
  },
  {
   "cell_type": "code",
   "execution_count": 49,
   "metadata": {
    "collapsed": false
   },
   "outputs": [
    {
     "data": {
      "text/html": [
       "<div>\n",
       "<table border=\"1\" class=\"dataframe\">\n",
       "  <thead>\n",
       "    <tr style=\"text-align: right;\">\n",
       "      <th></th>\n",
       "      <th>place</th>\n",
       "    </tr>\n",
       "  </thead>\n",
       "  <tbody>\n",
       "    <tr>\n",
       "      <th>2799</th>\n",
       "      <td>{u'country_code': u'EC', u'url': u'https://api...</td>\n",
       "    </tr>\n",
       "    <tr>\n",
       "      <th>713</th>\n",
       "      <td>{u'country_code': u'EC', u'url': u'https://api...</td>\n",
       "    </tr>\n",
       "    <tr>\n",
       "      <th>4513</th>\n",
       "      <td>{u'country_code': u'EC', u'url': u'https://api...</td>\n",
       "    </tr>\n",
       "    <tr>\n",
       "      <th>4007</th>\n",
       "      <td>{u'country_code': u'EC', u'url': u'https://api...</td>\n",
       "    </tr>\n",
       "    <tr>\n",
       "      <th>3374</th>\n",
       "      <td>{u'country_code': u'PE', u'url': u'https://api...</td>\n",
       "    </tr>\n",
       "    <tr>\n",
       "      <th>441</th>\n",
       "      <td>{u'country_code': u'EC', u'url': u'https://api...</td>\n",
       "    </tr>\n",
       "    <tr>\n",
       "      <th>1761</th>\n",
       "      <td>{u'country_code': u'EC', u'url': u'https://api...</td>\n",
       "    </tr>\n",
       "    <tr>\n",
       "      <th>4294</th>\n",
       "      <td>{u'country_code': u'EC', u'url': u'https://api...</td>\n",
       "    </tr>\n",
       "    <tr>\n",
       "      <th>2872</th>\n",
       "      <td>{u'country_code': u'EC', u'url': u'https://api...</td>\n",
       "    </tr>\n",
       "    <tr>\n",
       "      <th>3663</th>\n",
       "      <td>{u'country_code': u'EC', u'url': u'https://api...</td>\n",
       "    </tr>\n",
       "  </tbody>\n",
       "</table>\n",
       "</div>"
      ],
      "text/plain": [
       "                                                  place\n",
       "2799  {u'country_code': u'EC', u'url': u'https://api...\n",
       "713   {u'country_code': u'EC', u'url': u'https://api...\n",
       "4513  {u'country_code': u'EC', u'url': u'https://api...\n",
       "4007  {u'country_code': u'EC', u'url': u'https://api...\n",
       "3374  {u'country_code': u'PE', u'url': u'https://api...\n",
       "441   {u'country_code': u'EC', u'url': u'https://api...\n",
       "1761  {u'country_code': u'EC', u'url': u'https://api...\n",
       "4294  {u'country_code': u'EC', u'url': u'https://api...\n",
       "2872  {u'country_code': u'EC', u'url': u'https://api...\n",
       "3663  {u'country_code': u'EC', u'url': u'https://api..."
      ]
     },
     "execution_count": 49,
     "metadata": {},
     "output_type": "execute_result"
    }
   ],
   "source": [
    "pd.DataFrame(df[\"place\"]).sample(10)"
   ]
  },
  {
   "cell_type": "code",
   "execution_count": 39,
   "metadata": {
    "collapsed": false
   },
   "outputs": [
    {
     "data": {
      "text/plain": [
       "(4546, 1)"
      ]
     },
     "execution_count": 39,
     "metadata": {},
     "output_type": "execute_result"
    }
   ],
   "source": [
    "pd.DataFrame(df[\"place\"]).shape"
   ]
  },
  {
   "cell_type": "code",
   "execution_count": 43,
   "metadata": {
    "collapsed": false
   },
   "outputs": [
    {
     "data": {
      "text/plain": [
       "array([ {u'country_code': u'EC', u'url': u'https://api.twitter.com/1.1/geo/id/01da0f365a77a199.json', u'country': u'Ecuador', u'place_type': u'city', u'bounding_box': {u'type': u'Polygon', u'typeFix': u'polygon', u'coordinates': [[[-79.546384, -4.510835], [-79.546384, -3.672156], [-79.100275, -3.672156], [-79.100275, -4.510835]]]}, u'full_name': u'Loja, Ecuador', u'attributes': {}, u'id': u'01da0f365a77a199', u'name': u'Loja'},\n",
       "       {u'country_code': u'EC', u'url': u'https://api.twitter.com/1.1/geo/id/0039dafe6d412c07.json', u'country': u'Ecuador', u'place_type': u'city', u'bounding_box': {u'type': u'Polygon', u'typeFix': u'polygon', u'coordinates': [[[-79.687083, -2.245476], [-79.687083, -1.96731], [-79.4486, -1.96731], [-79.4486, -2.245476]]]}, u'full_name': u'Milagro, Ecuador', u'attributes': {}, u'id': u'0039dafe6d412c07', u'name': u'Milagro'},\n",
       "       {u'country_code': u'EC', u'url': u'https://api.twitter.com/1.1/geo/id/0177bc687a9ac697.json', u'country': u'Ecuador', u'place_type': u'city', u'bounding_box': {u'type': u'Polygon', u'typeFix': u'polygon', u'coordinates': [[[-78.948466, -0.588618], [-78.948466, 0.255477], [-78.164897, 0.255477], [-78.164897, -0.588618]]]}, u'full_name': u'Quito, Ecuador', u'attributes': {}, u'id': u'0177bc687a9ac697', u'name': u'Quito'},\n",
       "       ...,\n",
       "       {u'country_code': u'EC', u'url': u'https://api.twitter.com/1.1/geo/id/013cb38e7fe501ae.json', u'country': u'Ecuador', u'place_type': u'city', u'bounding_box': {u'type': u'Polygon', u'typeFix': u'polygon', u'coordinates': [[[-79.60064, -3.175114], [-79.60064, -2.556976], [-78.848059, -2.556976], [-78.848059, -3.175114]]]}, u'full_name': u'Cuenca, Ecuador', u'attributes': {}, u'id': u'013cb38e7fe501ae', u'name': u'Cuenca'},\n",
       "       {u'country_code': u'EC', u'url': u'https://api.twitter.com/1.1/geo/id/009a8fd36927ab01.json', u'country': u'Ecuador', u'place_type': u'city', u'bounding_box': {u'type': u'Polygon', u'typeFix': u'polygon', u'coordinates': [[[-80.245148, -3.501957], [-80.245148, -3.418298], [-80.12034, -3.418298], [-80.12034, -3.501957]]]}, u'full_name': u'Huaquillas, Ecuador', u'attributes': {}, u'id': u'009a8fd36927ab01', u'name': u'Huaquillas'},\n",
       "       {u'country_code': u'EC', u'url': u'https://api.twitter.com/1.1/geo/id/0177bc687a9ac697.json', u'country': u'Ecuador', u'place_type': u'city', u'bounding_box': {u'type': u'Polygon', u'typeFix': u'polygon', u'coordinates': [[[-78.948466, -0.588618], [-78.948466, 0.255477], [-78.164897, 0.255477], [-78.164897, -0.588618]]]}, u'full_name': u'Quito, Ecuador', u'attributes': {}, u'id': u'0177bc687a9ac697', u'name': u'Quito'}], dtype=object)"
      ]
     },
     "execution_count": 43,
     "metadata": {},
     "output_type": "execute_result"
    }
   ],
   "source": [
    "df[\"place\"].get_values()"
   ]
  },
  {
   "cell_type": "code",
   "execution_count": 44,
   "metadata": {
    "collapsed": false
   },
   "outputs": [
    {
     "data": {
      "text/plain": [
       "4546"
      ]
     },
     "execution_count": 44,
     "metadata": {},
     "output_type": "execute_result"
    }
   ],
   "source": [
    "len(df[\"place\"].get_values())"
   ]
  },
  {
   "cell_type": "code",
   "execution_count": 50,
   "metadata": {
    "collapsed": false
   },
   "outputs": [
    {
     "data": {
      "text/html": [
       "<div>\n",
       "<table border=\"1\" class=\"dataframe\">\n",
       "  <thead>\n",
       "    <tr style=\"text-align: right;\">\n",
       "      <th></th>\n",
       "      <th>place</th>\n",
       "    </tr>\n",
       "  </thead>\n",
       "  <tbody>\n",
       "    <tr>\n",
       "      <th>3839</th>\n",
       "      <td>{u'country_code': u'EC', u'url': u'https://api...</td>\n",
       "    </tr>\n",
       "    <tr>\n",
       "      <th>1766</th>\n",
       "      <td>{u'country_code': u'EC', u'url': u'https://api...</td>\n",
       "    </tr>\n",
       "    <tr>\n",
       "      <th>1732</th>\n",
       "      <td>{u'country_code': u'EC', u'url': u'https://api...</td>\n",
       "    </tr>\n",
       "    <tr>\n",
       "      <th>4030</th>\n",
       "      <td>{u'country_code': u'EC', u'url': u'https://api...</td>\n",
       "    </tr>\n",
       "    <tr>\n",
       "      <th>3987</th>\n",
       "      <td>NaN</td>\n",
       "    </tr>\n",
       "    <tr>\n",
       "      <th>2130</th>\n",
       "      <td>{u'country_code': u'EC', u'url': u'https://api...</td>\n",
       "    </tr>\n",
       "    <tr>\n",
       "      <th>4069</th>\n",
       "      <td>{u'country_code': u'EC', u'url': u'https://api...</td>\n",
       "    </tr>\n",
       "    <tr>\n",
       "      <th>2693</th>\n",
       "      <td>{u'country_code': u'EC', u'url': u'https://api...</td>\n",
       "    </tr>\n",
       "    <tr>\n",
       "      <th>1114</th>\n",
       "      <td>{u'country_code': u'EC', u'url': u'https://api...</td>\n",
       "    </tr>\n",
       "    <tr>\n",
       "      <th>1481</th>\n",
       "      <td>{u'country_code': u'EC', u'url': u'https://api...</td>\n",
       "    </tr>\n",
       "  </tbody>\n",
       "</table>\n",
       "</div>"
      ],
      "text/plain": [
       "                                                  place\n",
       "3839  {u'country_code': u'EC', u'url': u'https://api...\n",
       "1766  {u'country_code': u'EC', u'url': u'https://api...\n",
       "1732  {u'country_code': u'EC', u'url': u'https://api...\n",
       "4030  {u'country_code': u'EC', u'url': u'https://api...\n",
       "3987                                                NaN\n",
       "2130  {u'country_code': u'EC', u'url': u'https://api...\n",
       "4069  {u'country_code': u'EC', u'url': u'https://api...\n",
       "2693  {u'country_code': u'EC', u'url': u'https://api...\n",
       "1114  {u'country_code': u'EC', u'url': u'https://api...\n",
       "1481  {u'country_code': u'EC', u'url': u'https://api..."
      ]
     },
     "execution_count": 50,
     "metadata": {},
     "output_type": "execute_result"
    }
   ],
   "source": [
    "df[\"place\"].to_frame().sample(10)"
   ]
  },
  {
   "cell_type": "code",
   "execution_count": 51,
   "metadata": {
    "collapsed": false
   },
   "outputs": [
    {
     "data": {
      "text/plain": [
       "pandas.core.frame.DataFrame"
      ]
     },
     "execution_count": 51,
     "metadata": {},
     "output_type": "execute_result"
    }
   ],
   "source": [
    "type(df[\"place\"].to_frame())"
   ]
  },
  {
   "cell_type": "code",
   "execution_count": 52,
   "metadata": {
    "collapsed": false
   },
   "outputs": [
    {
     "data": {
      "text/plain": [
       "pandas.core.frame.DataFrame"
      ]
     },
     "execution_count": 52,
     "metadata": {},
     "output_type": "execute_result"
    }
   ],
   "source": [
    "type(pd.DataFrame(df[\"place\"]))"
   ]
  },
  {
   "cell_type": "code",
   "execution_count": 54,
   "metadata": {
    "collapsed": false
   },
   "outputs": [
    {
     "data": {
      "text/plain": [
       "0       {u'country_code': u'EC', u'url': u'https://api...\n",
       "1       {u'country_code': u'EC', u'url': u'https://api...\n",
       "2       {u'country_code': u'EC', u'url': u'https://api...\n",
       "3       {u'country_code': u'CO', u'url': u'https://api...\n",
       "4       {u'country_code': u'CO', u'url': u'https://api...\n",
       "5       {u'country_code': u'EC', u'url': u'https://api...\n",
       "6       {u'country_code': u'EC', u'url': u'https://api...\n",
       "7                                                     NaN\n",
       "8       {u'country_code': u'EC', u'url': u'https://api...\n",
       "9       {u'country_code': u'EC', u'url': u'https://api...\n",
       "10      {u'country_code': u'CO', u'url': u'https://api...\n",
       "11      {u'country_code': u'EC', u'url': u'https://api...\n",
       "12      {u'country_code': u'PE', u'url': u'https://api...\n",
       "13      {u'country_code': u'EC', u'url': u'https://api...\n",
       "14      {u'country_code': u'EC', u'url': u'https://api...\n",
       "15      {u'country_code': u'EC', u'url': u'https://api...\n",
       "16      {u'country_code': u'EC', u'url': u'https://api...\n",
       "17      {u'country_code': u'EC', u'url': u'https://api...\n",
       "18      {u'country_code': u'EC', u'url': u'https://api...\n",
       "19      {u'country_code': u'EC', u'url': u'https://api...\n",
       "20      {u'country_code': u'EC', u'url': u'https://api...\n",
       "21      {u'country_code': u'EC', u'url': u'https://api...\n",
       "22      {u'country_code': u'EC', u'url': u'https://api...\n",
       "23      {u'country_code': u'EC', u'url': u'https://api...\n",
       "24      {u'country_code': u'CO', u'url': u'https://api...\n",
       "25      {u'country_code': u'EC', u'url': u'https://api...\n",
       "26      {u'country_code': u'EC', u'url': u'https://api...\n",
       "27      {u'country_code': u'CO', u'url': u'https://api...\n",
       "28      {u'country_code': u'EC', u'url': u'https://api...\n",
       "29      {u'country_code': u'EC', u'url': u'https://api...\n",
       "                              ...                        \n",
       "4516    {u'country_code': u'EC', u'url': u'https://api...\n",
       "4517    {u'country_code': u'EC', u'url': u'https://api...\n",
       "4518    {u'country_code': u'EC', u'url': u'https://api...\n",
       "4519    {u'country_code': u'EC', u'url': u'https://api...\n",
       "4520    {u'country_code': u'EC', u'url': u'https://api...\n",
       "4521    {u'country_code': u'EC', u'url': u'https://api...\n",
       "4522    {u'country_code': u'EC', u'url': u'https://api...\n",
       "4523    {u'country_code': u'EC', u'url': u'https://api...\n",
       "4524    {u'country_code': u'EC', u'url': u'https://api...\n",
       "4525    {u'country_code': u'EC', u'url': u'https://api...\n",
       "4526    {u'country_code': u'EC', u'url': u'https://api...\n",
       "4527    {u'country_code': u'EC', u'url': u'https://api...\n",
       "4528    {u'country_code': u'EC', u'url': u'https://api...\n",
       "4529    {u'country_code': u'PE', u'url': u'https://api...\n",
       "4530    {u'country_code': u'EC', u'url': u'https://api...\n",
       "4531    {u'country_code': u'EC', u'url': u'https://api...\n",
       "4532    {u'country_code': u'EC', u'url': u'https://api...\n",
       "4533    {u'country_code': u'EC', u'url': u'https://api...\n",
       "4534    {u'country_code': u'EC', u'url': u'https://api...\n",
       "4535    {u'country_code': u'EC', u'url': u'https://api...\n",
       "4536    {u'country_code': u'EC', u'url': u'https://api...\n",
       "4537    {u'country_code': u'EC', u'url': u'https://api...\n",
       "4538    {u'country_code': u'EC', u'url': u'https://api...\n",
       "4539    {u'country_code': u'EC', u'url': u'https://api...\n",
       "4540    {u'country_code': u'EC', u'url': u'https://api...\n",
       "4541    {u'country_code': u'EC', u'url': u'https://api...\n",
       "4542    {u'country_code': u'EC', u'url': u'https://api...\n",
       "4543    {u'country_code': u'EC', u'url': u'https://api...\n",
       "4544    {u'country_code': u'EC', u'url': u'https://api...\n",
       "4545    {u'country_code': u'EC', u'url': u'https://api...\n",
       "Name: place, dtype: object"
      ]
     },
     "execution_count": 54,
     "metadata": {},
     "output_type": "execute_result"
    }
   ],
   "source": [
    "df[\"place\"].to_frame()[\"place\"]"
   ]
  },
  {
   "cell_type": "code",
   "execution_count": 7,
   "metadata": {
    "collapsed": false
   },
   "outputs": [
    {
     "ename": "TypeError",
     "evalue": "Expected String or Unicode",
     "output_type": "error",
     "traceback": [
      "\u001b[1;31m---------------------------------------------------------------------------\u001b[0m",
      "\u001b[1;31mTypeError\u001b[0m                                 Traceback (most recent call last)",
      "\u001b[1;32m<ipython-input-7-460ad1aaa610>\u001b[0m in \u001b[0;36m<module>\u001b[1;34m()\u001b[0m\n\u001b[1;32m----> 1\u001b[1;33m \u001b[0mdf2\u001b[0m \u001b[1;33m=\u001b[0m \u001b[0mpd\u001b[0m\u001b[1;33m.\u001b[0m\u001b[0mread_json\u001b[0m\u001b[1;33m(\u001b[0m\u001b[0ml\u001b[0m\u001b[1;33m)\u001b[0m\u001b[1;33m\u001b[0m\u001b[0m\n\u001b[0m\u001b[0;32m      2\u001b[0m \u001b[0mdf2\u001b[0m\u001b[1;33m.\u001b[0m\u001b[0mhead\u001b[0m\u001b[1;33m(\u001b[0m\u001b[1;33m)\u001b[0m\u001b[1;33m\u001b[0m\u001b[0m\n",
      "\u001b[1;32m/home/dsc/anaconda2/lib/python2.7/site-packages/pandas/io/json.pyc\u001b[0m in \u001b[0;36mread_json\u001b[1;34m(path_or_buf, orient, typ, dtype, convert_axes, convert_dates, keep_default_dates, numpy, precise_float, date_unit)\u001b[0m\n\u001b[0;32m    209\u001b[0m         obj = FrameParser(json, orient, dtype, convert_axes, convert_dates,\n\u001b[0;32m    210\u001b[0m                           \u001b[0mkeep_default_dates\u001b[0m\u001b[1;33m,\u001b[0m \u001b[0mnumpy\u001b[0m\u001b[1;33m,\u001b[0m \u001b[0mprecise_float\u001b[0m\u001b[1;33m,\u001b[0m\u001b[1;33m\u001b[0m\u001b[0m\n\u001b[1;32m--> 211\u001b[1;33m                           date_unit).parse()\n\u001b[0m\u001b[0;32m    212\u001b[0m \u001b[1;33m\u001b[0m\u001b[0m\n\u001b[0;32m    213\u001b[0m     \u001b[1;32mif\u001b[0m \u001b[0mtyp\u001b[0m \u001b[1;33m==\u001b[0m \u001b[1;34m'series'\u001b[0m \u001b[1;32mor\u001b[0m \u001b[0mobj\u001b[0m \u001b[1;32mis\u001b[0m \u001b[0mNone\u001b[0m\u001b[1;33m:\u001b[0m\u001b[1;33m\u001b[0m\u001b[0m\n",
      "\u001b[1;32m/home/dsc/anaconda2/lib/python2.7/site-packages/pandas/io/json.pyc\u001b[0m in \u001b[0;36mparse\u001b[1;34m(self)\u001b[0m\n\u001b[0;32m    277\u001b[0m \u001b[1;33m\u001b[0m\u001b[0m\n\u001b[0;32m    278\u001b[0m         \u001b[1;32melse\u001b[0m\u001b[1;33m:\u001b[0m\u001b[1;33m\u001b[0m\u001b[0m\n\u001b[1;32m--> 279\u001b[1;33m             \u001b[0mself\u001b[0m\u001b[1;33m.\u001b[0m\u001b[0m_parse_no_numpy\u001b[0m\u001b[1;33m(\u001b[0m\u001b[1;33m)\u001b[0m\u001b[1;33m\u001b[0m\u001b[0m\n\u001b[0m\u001b[0;32m    280\u001b[0m \u001b[1;33m\u001b[0m\u001b[0m\n\u001b[0;32m    281\u001b[0m         \u001b[1;32mif\u001b[0m \u001b[0mself\u001b[0m\u001b[1;33m.\u001b[0m\u001b[0mobj\u001b[0m \u001b[1;32mis\u001b[0m \u001b[0mNone\u001b[0m\u001b[1;33m:\u001b[0m\u001b[1;33m\u001b[0m\u001b[0m\n",
      "\u001b[1;32m/home/dsc/anaconda2/lib/python2.7/site-packages/pandas/io/json.pyc\u001b[0m in \u001b[0;36m_parse_no_numpy\u001b[1;34m(self)\u001b[0m\n\u001b[0;32m    494\u001b[0m         \u001b[1;32mif\u001b[0m \u001b[0morient\u001b[0m \u001b[1;33m==\u001b[0m \u001b[1;34m\"columns\"\u001b[0m\u001b[1;33m:\u001b[0m\u001b[1;33m\u001b[0m\u001b[0m\n\u001b[0;32m    495\u001b[0m             self.obj = DataFrame(\n\u001b[1;32m--> 496\u001b[1;33m                 loads(json, precise_float=self.precise_float), dtype=None)\n\u001b[0m\u001b[0;32m    497\u001b[0m         \u001b[1;32melif\u001b[0m \u001b[0morient\u001b[0m \u001b[1;33m==\u001b[0m \u001b[1;34m\"split\"\u001b[0m\u001b[1;33m:\u001b[0m\u001b[1;33m\u001b[0m\u001b[0m\n\u001b[0;32m    498\u001b[0m             decoded = dict((str(k), v)\n",
      "\u001b[1;31mTypeError\u001b[0m: Expected String or Unicode"
     ]
    }
   ],
   "source": [
    "df2 = pd.read_json(l)\n",
    "df2.head()"
   ]
  },
  {
   "cell_type": "code",
   "execution_count": 8,
   "metadata": {
    "collapsed": false
   },
   "outputs": [
    {
     "data": {
      "text/plain": [
       "{u'attributes': {},\n",
       " u'bounding_box': {u'coordinates': [[[-79.546384, -4.510835],\n",
       "    [-79.546384, -3.672156],\n",
       "    [-79.100275, -3.672156],\n",
       "    [-79.100275, -4.510835]]],\n",
       "  u'type': u'Polygon',\n",
       "  u'typeFix': u'polygon'},\n",
       " u'country': u'Ecuador',\n",
       " u'country_code': u'EC',\n",
       " u'full_name': u'Loja, Ecuador',\n",
       " u'id': u'01da0f365a77a199',\n",
       " u'name': u'Loja',\n",
       " u'place_type': u'city',\n",
       " u'url': u'https://api.twitter.com/1.1/geo/id/01da0f365a77a199.json'}"
      ]
     },
     "execution_count": 8,
     "metadata": {},
     "output_type": "execute_result"
    }
   ],
   "source": [
    "df[\"place\"].get_values()[0]"
   ]
  },
  {
   "cell_type": "code",
   "execution_count": 9,
   "metadata": {
    "collapsed": false
   },
   "outputs": [
    {
     "ename": "AttributeError",
     "evalue": "'numpy.ndarray' object has no attribute 'map'",
     "output_type": "error",
     "traceback": [
      "\u001b[1;31m---------------------------------------------------------------------------\u001b[0m",
      "\u001b[1;31mAttributeError\u001b[0m                            Traceback (most recent call last)",
      "\u001b[1;32m<ipython-input-9-61454e5c4af6>\u001b[0m in \u001b[0;36m<module>\u001b[1;34m()\u001b[0m\n\u001b[1;32m----> 1\u001b[1;33m \u001b[0mdf\u001b[0m\u001b[1;33m[\u001b[0m\u001b[1;34m\"place\"\u001b[0m\u001b[1;33m]\u001b[0m\u001b[1;33m.\u001b[0m\u001b[0mget_values\u001b[0m\u001b[1;33m(\u001b[0m\u001b[1;33m)\u001b[0m\u001b[1;33m.\u001b[0m\u001b[0mmap\u001b[0m\u001b[1;33m(\u001b[0m\u001b[1;32mlambda\u001b[0m \u001b[0mx\u001b[0m\u001b[1;33m:\u001b[0m \u001b[0mx\u001b[0m\u001b[1;33m[\u001b[0m\u001b[1;34m\"name\"\u001b[0m\u001b[1;33m]\u001b[0m\u001b[1;33m)\u001b[0m\u001b[1;33m\u001b[0m\u001b[0m\n\u001b[0m",
      "\u001b[1;31mAttributeError\u001b[0m: 'numpy.ndarray' object has no attribute 'map'"
     ]
    }
   ],
   "source": [
    "df[\"place\"].get_values().map(lambda x: x[\"name\"])"
   ]
  },
  {
   "cell_type": "code",
   "execution_count": 13,
   "metadata": {
    "collapsed": false
   },
   "outputs": [
    {
     "name": "stdout",
     "output_type": "stream",
     "text": [
      "<type 'numpy.ndarray'>\n",
      "4546\n"
     ]
    }
   ],
   "source": [
    "print type(df[\"place\"].get_values())\n",
    "print len(df[\"place\"].get_values())"
   ]
  },
  {
   "cell_type": "code",
   "execution_count": 11,
   "metadata": {
    "collapsed": false
   },
   "outputs": [
    {
     "ename": "TypeError",
     "evalue": "'float' object has no attribute '__getitem__'",
     "output_type": "error",
     "traceback": [
      "\u001b[1;31m---------------------------------------------------------------------------\u001b[0m",
      "\u001b[1;31mTypeError\u001b[0m                                 Traceback (most recent call last)",
      "\u001b[1;32m<ipython-input-11-f2405e45176a>\u001b[0m in \u001b[0;36m<module>\u001b[1;34m()\u001b[0m\n\u001b[1;32m----> 1\u001b[1;33m \u001b[0ml2\u001b[0m \u001b[1;33m=\u001b[0m \u001b[1;33m[\u001b[0m\u001b[0mlugar\u001b[0m\u001b[1;33m[\u001b[0m\u001b[1;34m\"name\"\u001b[0m\u001b[1;33m]\u001b[0m \u001b[1;32mfor\u001b[0m \u001b[0mlugar\u001b[0m \u001b[1;32min\u001b[0m \u001b[0mdf\u001b[0m\u001b[1;33m[\u001b[0m\u001b[1;34m\"place\"\u001b[0m\u001b[1;33m]\u001b[0m\u001b[1;33m.\u001b[0m\u001b[0mget_values\u001b[0m\u001b[1;33m(\u001b[0m\u001b[1;33m)\u001b[0m\u001b[1;33m]\u001b[0m\u001b[1;33m\u001b[0m\u001b[0m\n\u001b[0m\u001b[0;32m      2\u001b[0m \u001b[0ml2\u001b[0m\u001b[1;33m[\u001b[0m\u001b[1;33m:\u001b[0m\u001b[1;36m10\u001b[0m\u001b[1;33m]\u001b[0m\u001b[1;33m\u001b[0m\u001b[0m\n",
      "\u001b[1;31mTypeError\u001b[0m: 'float' object has no attribute '__getitem__'"
     ]
    }
   ],
   "source": [
    "l2 = [lugar[\"name\"] for lugar in df[\"place\"].get_values()]\n",
    "l2[:10]"
   ]
  },
  {
   "cell_type": "code",
   "execution_count": 16,
   "metadata": {
    "collapsed": false
   },
   "outputs": [
    {
     "ename": "SyntaxError",
     "evalue": "EOL while scanning string literal (<ipython-input-16-adeabcd5e2cc>, line 1)",
     "output_type": "error",
     "traceback": [
      "\u001b[1;36m  File \u001b[1;32m\"<ipython-input-16-adeabcd5e2cc>\"\u001b[1;36m, line \u001b[1;32m1\u001b[0m\n\u001b[1;33m    df[\"place\"].mask(\"name\" == Loja\")\u001b[0m\n\u001b[1;37m                                    ^\u001b[0m\n\u001b[1;31mSyntaxError\u001b[0m\u001b[1;31m:\u001b[0m EOL while scanning string literal\n"
     ]
    }
   ],
   "source": [
    "df[\"place\"].mask(\"name\" == Loja\")"
   ]
  },
  {
   "cell_type": "code",
   "execution_count": null,
   "metadata": {
    "collapsed": true
   },
   "outputs": [],
   "source": []
  }
 ],
 "metadata": {
  "kernelspec": {
   "display_name": "Python 2",
   "language": "python",
   "name": "python2"
  },
  "language_info": {
   "codemirror_mode": {
    "name": "ipython",
    "version": 2
   },
   "file_extension": ".py",
   "mimetype": "text/x-python",
   "name": "python",
   "nbconvert_exporter": "python",
   "pygments_lexer": "ipython2",
   "version": "2.7.11"
  }
 },
 "nbformat": 4,
 "nbformat_minor": 0
}
